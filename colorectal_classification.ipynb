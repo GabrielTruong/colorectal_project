{
  "cells": [
    {
      "cell_type": "markdown",
      "metadata": {
        "id": "blXTjGmRtT6g"
      },
      "source": [
        "# Colorectal histology - Final Project\n",
        "Author: Gabriel TRUONG"
      ]
    },
    {
      "cell_type": "markdown",
      "metadata": {
        "id": "Xc1wvYNStT6k"
      },
      "source": [
        "This project aims to apply a model development cycle by iterativaly improve the model through: \n",
        "1. **Architecture** (model, data, etc.)\n",
        "2. **Training of the model**\n",
        "3. **Diagnose** (evalution metrics, bias, variance , errors)\n",
        "\n",
        "The dataset comes from a study conducted by Kather JN, Weis CA, Bianconi F, Melchers SM, Schad LR, Gaiser T, Marx A, Zollner F published in the Scientific Reports (in press). The name of the article is [*Multi-class texture analysis in colorectal cancer histology (2016)*](https://zenodo.org/record/53169#.Y58H9tLMKvX)."
      ]
    },
    {
      "cell_type": "code",
      "execution_count": 1,
      "metadata": {
        "id": "Y7x8BN9ZtT6l"
      },
      "outputs": [],
      "source": [
        "from PIL import Image\n",
        "import matplotlib.pyplot as plt\n",
        "import pandas as pd\n",
        "import numpy as np\n",
        "\n",
        "import tensorflow as tf\n",
        "import tensorflow_datasets as tfds\n",
        "from tensorflow.keras import layers, Sequential\n",
        "from tensorflow_datasets.image_classification import colorectal_histology\n",
        "from sklearn.metrics import confusion_matrix,ConfusionMatrixDisplay, accuracy_score\n",
        "\n",
        "import datetime\n",
        "SEED = 42"
      ]
    },
    {
      "cell_type": "code",
      "source": [
        "def plot_accuracy_loss(history):\n",
        "    fig,ax = plt.subplots(1,2,figsize=(10,8))\n",
        "    ax[0].plot(history.history['accuracy'])\n",
        "    ax[0].plot(history.history['val_accuracy'])\n",
        "    ax[0].set_title(\"model accuracy\")\n",
        "    ax[0].set_xlabel(\"epochs\")\n",
        "    ax[0].set_ylabel(\"Accuracy\")\n",
        "    ax[0].legend(['train', 'test'], loc='upper left')\n",
        "\n",
        "    ax[1].plot(history.history['loss'])\n",
        "    ax[1].plot(history.history['val_loss'])\n",
        "    ax[1].set_title('model loss')\n",
        "    ax[1].set_xlabel(\"epochs\")\n",
        "    ax[1].set_ylabel(\"Loss\")\n",
        "    ax[1].legend(['train', 'test'], loc='upper left')\n",
        "    \n",
        "    fig.show()"
      ],
      "metadata": {
        "id": "jYF2Y_oFvtu3"
      },
      "execution_count": 2,
      "outputs": []
    },
    {
      "cell_type": "markdown",
      "metadata": {
        "id": "U4sLjiSttT6n"
      },
      "source": [
        "## Data Collection"
      ]
    },
    {
      "cell_type": "code",
      "execution_count": 3,
      "metadata": {
        "id": "PgighFMstT6n",
        "outputId": "789e79cb-c105-4984-b582-7d8384184bcb",
        "colab": {
          "base_uri": "https://localhost:8080/",
          "height": 165,
          "referenced_widgets": [
            "a2394793b6e645c49414d8fb6c098a30",
            "aa80f49c3b4f4bdf83011dc7718e5bce",
            "13461f9b084740eca201f7441c7beef7",
            "a48938fcc6a34ab0b62ce5eb7a6ab4a5",
            "0f6fe07aa5c24d02b85fabb1be28cf92",
            "c596cc6c4c734f83b48ac6371e227557",
            "6978fa4b11aa4a67871e49abb51d8698",
            "f71c8bf0bf0140338833944eb69bf7de",
            "124c3a8c53b241a7ba380becff6adb3d",
            "0caa30e348114875b4965b523a3c648b",
            "6309398ede994ec7945b36c0624529b6",
            "612178aef5db435daf62d0b1482ae50d",
            "ed49bb2753004e0891fd7d8b0749ccda",
            "60d846ec050d4d5dbd04fc1c6a1365dd",
            "6f1becfa9d504f1a91af6799cd1b8ec5",
            "a219269ab9bc4dde87e3c9b1bbbc21ae",
            "12548d9e2d4044afa779a878d6fad0d4",
            "6395228cc84a484a8f185784f05f8c4c",
            "570162d562ee41eaa3760ea794b8f7b5",
            "09c45d67e84b47ca8ead8e1bbdfedeeb",
            "4b76664f3b1b4f84ad1a911c8b81dcef",
            "cc6c3fdea1544f9fb44505cc878491e7",
            "bd3a6e2792ec49f39f832f3991ac55ee",
            "abb9cb2a080d42258477b8c9e0076b2b",
            "e9ea0bbf65a5430e96e69bbbdc660a25",
            "fc424e9773e8437da51f54e73d9606a2",
            "31736528142e4663a11343d60ddb9047",
            "930b82756877453596b5745286fd38e8",
            "b0a8bf7d79514e1ca8024761caf694f1",
            "002e6c8d64ee42c7bc54e99bea3f670c",
            "494784011f1f472fb8833e85ebdde43f",
            "4a2c850cedcc48aeaa38987b5892cf51",
            "82d863d891d44ab6b45701bd62730063",
            "561c291510144dcea86fb0a37d821cdc",
            "06ca23221afe460b8a1e1573a9ba0bfc",
            "ecff013325e943e48be3da6a3c5f71dd",
            "a4d3b208b28b4a15a2c162924de3f7b2",
            "168a9a411aa44742b5e2813f057280ca",
            "609f67e874ac491ebcfe26358ec729d0",
            "30a34373895143648c88135283b55dbd",
            "12da341a7df14196b7e8e34e33c85207",
            "d65bd5c5c0764542a251a64ae3b5b038",
            "f9c15fddc06e4fde90bb444c885fe78d",
            "ef347c965330430ca03510abad21df68",
            "ecd6efc0c1124c5ba78709c8b61a1551",
            "40cecfd8a571494ba70a0b11a9cc8233",
            "2906d4127c7f466c84727995c3b78f81",
            "0f7e575fc444428f86fa0728fa8dcb90",
            "bbe4796c5b7e4cb191b1a649251fed0e",
            "cb342a77a039434b90b2c0e98aa88dad",
            "37cbc2d11cd046e290182595f4f2040f",
            "fc987ad22e554beb876149d28986cef4",
            "783182f965a74a6da9db5d3ca1c1f337",
            "7529370e17514d07a780152bd4dce20d",
            "e63c6a43ac864dceb482b85baf3f809c",
            "f6868c049e034992ac1d5404da4eebd0",
            "6760190bf5be482188c81c329da51eb2",
            "394b4045042d4234997fbd31805093dd",
            "104140d16c244a2fac09a8f994eea81b",
            "552de31fadee48fca6c123f275afc80a",
            "0f91694eed3647dcad07fddf4da8ca2e",
            "a62b300376bf4e5eaf66e212214addea",
            "d35c3a97963b43bb9e807d2fb61c7a40",
            "fc749c0c82494281bd36c0d6530538ec",
            "6ef9d3aed0b14268a4a14266a421003c",
            "f6fedb6f48ba453e887625f159f679c6"
          ]
        }
      },
      "outputs": [
        {
          "output_type": "stream",
          "name": "stdout",
          "text": [
            "Downloading and preparing dataset 246.14 MiB (download: 246.14 MiB, generated: Unknown size, total: 246.14 MiB) to ~/tensorflow_datasets/colorectal_histology/2.0.0...\n"
          ]
        },
        {
          "output_type": "display_data",
          "data": {
            "text/plain": [
              "Dl Completed...: 0 url [00:00, ? url/s]"
            ],
            "application/vnd.jupyter.widget-view+json": {
              "version_major": 2,
              "version_minor": 0,
              "model_id": "a2394793b6e645c49414d8fb6c098a30"
            }
          },
          "metadata": {}
        },
        {
          "output_type": "display_data",
          "data": {
            "text/plain": [
              "Dl Size...: 0 MiB [00:00, ? MiB/s]"
            ],
            "application/vnd.jupyter.widget-view+json": {
              "version_major": 2,
              "version_minor": 0,
              "model_id": "612178aef5db435daf62d0b1482ae50d"
            }
          },
          "metadata": {}
        },
        {
          "output_type": "display_data",
          "data": {
            "text/plain": [
              "Extraction completed...: 0 file [00:00, ? file/s]"
            ],
            "application/vnd.jupyter.widget-view+json": {
              "version_major": 2,
              "version_minor": 0,
              "model_id": "bd3a6e2792ec49f39f832f3991ac55ee"
            }
          },
          "metadata": {}
        },
        {
          "output_type": "display_data",
          "data": {
            "text/plain": [
              "Generating splits...:   0%|          | 0/1 [00:00<?, ? splits/s]"
            ],
            "application/vnd.jupyter.widget-view+json": {
              "version_major": 2,
              "version_minor": 0,
              "model_id": "561c291510144dcea86fb0a37d821cdc"
            }
          },
          "metadata": {}
        },
        {
          "output_type": "display_data",
          "data": {
            "text/plain": [
              "Generating train examples...:   0%|          | 0/5000 [00:00<?, ? examples/s]"
            ],
            "application/vnd.jupyter.widget-view+json": {
              "version_major": 2,
              "version_minor": 0,
              "model_id": "ecd6efc0c1124c5ba78709c8b61a1551"
            }
          },
          "metadata": {}
        },
        {
          "output_type": "display_data",
          "data": {
            "text/plain": [
              "Shuffling ~/tensorflow_datasets/colorectal_histology/2.0.0.incomplete6S11QW/colorectal_histology-train.tfrecor…"
            ],
            "application/vnd.jupyter.widget-view+json": {
              "version_major": 2,
              "version_minor": 0,
              "model_id": "f6868c049e034992ac1d5404da4eebd0"
            }
          },
          "metadata": {}
        },
        {
          "output_type": "stream",
          "name": "stdout",
          "text": [
            "Dataset colorectal_histology downloaded and prepared to ~/tensorflow_datasets/colorectal_histology/2.0.0. Subsequent calls will reuse this data.\n",
            "The data is of type <class 'numpy.ndarray'> and each image has a (4000, 150, 150, 3) shape\n"
          ]
        }
      ],
      "source": [
        "(train_ds,train_label),(val_ds, val_label)= tfds.as_numpy(tfds.load(\n",
        "    'colorectal_histology',\n",
        "    split=[\"train[:80%]\", \"train[80%:]\"],\n",
        "    batch_size=-1,\n",
        "    shuffle_files=True,\n",
        "    as_supervised=True,\n",
        "))\n",
        "\n",
        "print(f\"The data is of type {type(train_ds)} and each image has a {train_ds.shape} shape\")"
      ]
    },
    {
      "cell_type": "markdown",
      "metadata": {
        "id": "JA-c0Xg0tT6q"
      },
      "source": [
        "## Exploratory Data Analysis <a name=\"EDA\"></a>"
      ]
    },
    {
      "cell_type": "code",
      "execution_count": 5,
      "metadata": {
        "id": "iFuIOkGPtT6q",
        "outputId": "4c006c78-9eab-4aea-de43-f1c7439a2e5c",
        "colab": {
          "base_uri": "https://localhost:8080/"
        }
      },
      "outputs": [
        {
          "output_type": "execute_result",
          "data": {
            "text/plain": [
              "('tumor',\n",
              " 'stroma',\n",
              " 'complex',\n",
              " 'lympho',\n",
              " 'debris',\n",
              " 'mucosa',\n",
              " 'adipose',\n",
              " 'empty')"
            ]
          },
          "metadata": {},
          "execution_count": 5
        }
      ],
      "source": [
        "class_names = colorectal_histology._CLASS_NAMES\n",
        "class_names"
      ]
    },
    {
      "cell_type": "code",
      "execution_count": 6,
      "metadata": {
        "id": "_d7ZxbxktT6r",
        "outputId": "c1d3051d-5b5e-488e-a20f-d53b5a079ea8",
        "colab": {
          "base_uri": "https://localhost:8080/",
          "height": 195
        }
      },
      "outputs": [
        {
          "output_type": "display_data",
          "data": {
            "text/plain": [
              "<Figure size 576x576 with 3 Axes>"
            ],
            "image/png": "[encoded data removed]"
          },
          "metadata": {
            "needs_background": "light"
          }
        }
      ],
      "source": [
        "fig, ax = plt.subplots(1,3,figsize=(8,8))\n",
        "size=(200,200)\n",
        "\n",
        "img = [Image.fromarray(train_ds[i], 'RGB').resize(size) for i in range(4)]\n",
        "\n",
        "ax[0].imshow(img[0],cmap = 'gray')\n",
        "ax[0].set_title(class_names[train_label[0]])\n",
        "ax[1].imshow(img[1],cmap = 'gray')\n",
        "ax[1].set_title(class_names[train_label[1]])\n",
        "ax[2].imshow(img[3],cmap = 'gray')\n",
        "ax[2].set_title(class_names[train_label[3]])\n",
        "plt.show()"
      ]
    },
    {
      "cell_type": "code",
      "execution_count": 7,
      "metadata": {
        "id": "MUjLjQxatT6r",
        "outputId": "5be6d4f8-f5d7-4df3-c602-08eef29d002e",
        "colab": {
          "base_uri": "https://localhost:8080/",
          "height": 407
        }
      },
      "outputs": [
        {
          "output_type": "execute_result",
          "data": {
            "text/plain": [
              "Text(0.5, 1.0, 'Number of occurences of a val label')"
            ]
          },
          "metadata": {},
          "execution_count": 7
        },
        {
          "output_type": "display_data",
          "data": {
            "text/plain": [
              "<Figure size 864x432 with 2 Axes>"
            ],
            "image/png": "[encoded data removed]"
          },
          "metadata": {
            "needs_background": "light"
          }
        }
      ],
      "source": [
        "fig,(ax1,ax2) = plt.subplots(1,2,figsize=(12,6))\n",
        "\n",
        "ax1.hist(train_label, bins=len(np.unique(train_label)), edgecolor=\"black\")\n",
        "ax1.set_title(\"Number of occurences of a train label\")\n",
        "\n",
        "ax2.hist(val_label, bins=len(np.unique(val_label)), edgecolor=\"black\")\n",
        "ax2.set_title(\"Number of occurences of a val label\")"
      ]
    },
    {
      "cell_type": "markdown",
      "metadata": {
        "id": "mgga8HOUtT6s"
      },
      "source": [
        "We can see that the training set is quite balanced. The validation set is not as balanced but it enables to see how the model perform on a slightly different distribution."
      ]
    },
    {
      "cell_type": "code",
      "execution_count": 7,
      "metadata": {
        "id": "ukrjp-CAtT6t"
      },
      "outputs": [],
      "source": [
        "tf.keras.utils.set_random_seed(SEED)"
      ]
    },
    {
      "cell_type": "markdown",
      "metadata": {
        "id": "R-BE4tqCtT6t"
      },
      "source": [
        "**`Launch tensorboard to monitor the training`**"
      ]
    },
    {
      "cell_type": "code",
      "execution_count": 9,
      "metadata": {
        "id": "hubviTabtT6t",
        "outputId": "31697922-7871-4658-c5be-8d65f16f42b8",
        "colab": {
          "base_uri": "https://localhost:8080/"
        }
      },
      "outputs": [
        {
          "output_type": "stream",
          "name": "stderr",
          "text": [
            "UsageError: Line magic function `%tensorboard` not found.\n"
          ]
        }
      ],
      "source": [
        "%tensorboard --logdir logs/fit\n"
      ]
    },
    {
      "cell_type": "markdown",
      "metadata": {
        "id": "zMe6RLSktT6u"
      },
      "source": [
        "## Model Development"
      ]
    },
    {
      "cell_type": "markdown",
      "metadata": {
        "id": "ls4C0QPOtT6u"
      },
      "source": [
        "### Baseline model"
      ]
    },
    {
      "cell_type": "markdown",
      "metadata": {
        "id": "5l6iCeu7tT6u"
      },
      "source": [
        "This model is simple Artificial Neural Network. The architecture comes from a lab on the fashion MNIST dataset. Since we are dealing with images, we add a flatten layer to suit the architecture. Without this preprocessing layer, not all the layers will be fully connected to the input."
      ]
    },
    {
      "cell_type": "code",
      "execution_count": 10,
      "metadata": {
        "id": "W2qR0E4LtT6v",
        "outputId": "26ca9ea7-65a4-4a22-ea57-b60c905a4ef6",
        "colab": {
          "base_uri": "https://localhost:8080/"
        }
      },
      "outputs": [
        {
          "output_type": "stream",
          "name": "stdout",
          "text": [
            "Model: \"sequential\"\n",
            "_________________________________________________________________\n",
            " Layer (type)                Output Shape              Param #   \n",
            "=================================================================\n",
            " flatten (Flatten)           (None, 67500)             0         \n",
            "                                                                 \n",
            " dense (Dense)               (None, 300)               20250300  \n",
            "                                                                 \n",
            " dense_1 (Dense)             (None, 100)               30100     \n",
            "                                                                 \n",
            " dense_2 (Dense)             (None, 8)                 808       \n",
            "                                                                 \n",
            "=================================================================\n",
            "Total params: 20,281,208\n",
            "Trainable params: 20,281,208\n",
            "Non-trainable params: 0\n",
            "_________________________________________________________________\n"
          ]
        }
      ],
      "source": [
        "logs = {}\n",
        "\n",
        "baseline_model = Sequential([\n",
        "    layers.Flatten(input_shape=[150, 150,3]),\n",
        "    layers.Dense(300,activation=\"relu\"),\n",
        "    layers.Dense(100,activation=\"relu\"),\n",
        "    layers.Dense(8,activation=\"softmax\")\n",
        "])\n",
        "baseline_model.summary()"
      ]
    },
    {
      "cell_type": "code",
      "execution_count": 11,
      "metadata": {
        "id": "93xymzj-tT6w"
      },
      "outputs": [],
      "source": [
        "baseline_model.compile(optimizer=\"adam\",loss=tf.keras.losses.SparseCategoricalCrossentropy(),\n",
        "metrics=\"accuracy\")"
      ]
    },
    {
      "cell_type": "markdown",
      "metadata": {
        "id": "ne443JNjtT6w"
      },
      "source": [
        "For this baseline model, we only add a tensorboard callback to monitor the training."
      ]
    },
    {
      "cell_type": "code",
      "execution_count": 12,
      "metadata": {
        "id": "Vi7ekR_itT6x"
      },
      "outputs": [],
      "source": [
        "log_dir = \"logs/colorectal_project_\" + datetime.datetime.now().strftime(\"%Y%m%d-%H%M%S\")\n",
        "baseline_cb = tf.keras.callbacks.TensorBoard(log_dir=log_dir, histogram_freq=1)\n"
      ]
    },
    {
      "cell_type": "code",
      "execution_count": 13,
      "metadata": {
        "id": "6-mYzdi2tT6y",
        "outputId": "2027ace2-708a-4728-b93a-261e97ed4581",
        "colab": {
          "base_uri": "https://localhost:8080/"
        }
      },
      "outputs": [
        {
          "output_type": "stream",
          "name": "stdout",
          "text": [
            "Epoch 1/30\n",
            "125/125 [==============================] - 9s 51ms/step - loss: 4135.1069 - accuracy: 0.2320 - val_loss: 2630.0027 - val_accuracy: 0.3190\n",
            "Epoch 2/30\n",
            "125/125 [==============================] - 7s 56ms/step - loss: 1656.9583 - accuracy: 0.3130 - val_loss: 757.7240 - val_accuracy: 0.3230\n",
            "Epoch 3/30\n",
            "125/125 [==============================] - 5s 42ms/step - loss: 582.6296 - accuracy: 0.3700 - val_loss: 644.4039 - val_accuracy: 0.2820\n",
            "Epoch 4/30\n",
            "125/125 [==============================] - 5s 39ms/step - loss: 342.5438 - accuracy: 0.4033 - val_loss: 94.2734 - val_accuracy: 0.4630\n",
            "Epoch 5/30\n",
            "125/125 [==============================] - 5s 37ms/step - loss: 167.9234 - accuracy: 0.4347 - val_loss: 202.0399 - val_accuracy: 0.3880\n",
            "Epoch 6/30\n",
            "125/125 [==============================] - 5s 37ms/step - loss: 107.5811 - accuracy: 0.4997 - val_loss: 76.9840 - val_accuracy: 0.5110\n",
            "Epoch 7/30\n",
            "125/125 [==============================] - 5s 37ms/step - loss: 96.7206 - accuracy: 0.5063 - val_loss: 69.2995 - val_accuracy: 0.4240\n",
            "Epoch 8/30\n",
            "125/125 [==============================] - 5s 37ms/step - loss: 112.8132 - accuracy: 0.4610 - val_loss: 112.8902 - val_accuracy: 0.3960\n",
            "Epoch 9/30\n",
            "125/125 [==============================] - 5s 37ms/step - loss: 84.6135 - accuracy: 0.4748 - val_loss: 56.9717 - val_accuracy: 0.4900\n",
            "Epoch 10/30\n",
            "125/125 [==============================] - 5s 38ms/step - loss: 70.6981 - accuracy: 0.4745 - val_loss: 53.8626 - val_accuracy: 0.4030\n",
            "Epoch 11/30\n",
            "125/125 [==============================] - 5s 37ms/step - loss: 30.5935 - accuracy: 0.5320 - val_loss: 40.7190 - val_accuracy: 0.4240\n",
            "Epoch 12/30\n",
            "125/125 [==============================] - 5s 37ms/step - loss: 52.8365 - accuracy: 0.4645 - val_loss: 46.5050 - val_accuracy: 0.4220\n",
            "Epoch 13/30\n",
            "125/125 [==============================] - 5s 37ms/step - loss: 27.9550 - accuracy: 0.4997 - val_loss: 22.7690 - val_accuracy: 0.4800\n",
            "Epoch 14/30\n",
            "125/125 [==============================] - 5s 37ms/step - loss: 26.5957 - accuracy: 0.4767 - val_loss: 27.6963 - val_accuracy: 0.4210\n",
            "Epoch 15/30\n",
            "125/125 [==============================] - 5s 36ms/step - loss: 20.0268 - accuracy: 0.4820 - val_loss: 22.4840 - val_accuracy: 0.4250\n",
            "Epoch 16/30\n",
            "125/125 [==============================] - 5s 37ms/step - loss: 16.8706 - accuracy: 0.5085 - val_loss: 26.1185 - val_accuracy: 0.3700\n",
            "Epoch 17/30\n",
            "125/125 [==============================] - 5s 42ms/step - loss: 18.3826 - accuracy: 0.4535 - val_loss: 17.9414 - val_accuracy: 0.3920\n",
            "Epoch 18/30\n",
            "125/125 [==============================] - 5s 37ms/step - loss: 11.1023 - accuracy: 0.4450 - val_loss: 9.3841 - val_accuracy: 0.4940\n",
            "Epoch 19/30\n",
            "125/125 [==============================] - 5s 37ms/step - loss: 7.8752 - accuracy: 0.4762 - val_loss: 11.2660 - val_accuracy: 0.4170\n",
            "Epoch 20/30\n",
            "125/125 [==============================] - 5s 37ms/step - loss: 7.6126 - accuracy: 0.4505 - val_loss: 6.3615 - val_accuracy: 0.4720\n",
            "Epoch 21/30\n",
            "125/125 [==============================] - 5s 37ms/step - loss: 8.0046 - accuracy: 0.4353 - val_loss: 12.1000 - val_accuracy: 0.4080\n",
            "Epoch 22/30\n",
            "125/125 [==============================] - 5s 38ms/step - loss: 7.0357 - accuracy: 0.4945 - val_loss: 9.8394 - val_accuracy: 0.4440\n",
            "Epoch 23/30\n",
            "125/125 [==============================] - 5s 37ms/step - loss: 10.6597 - accuracy: 0.3442 - val_loss: 2.5389 - val_accuracy: 0.1350\n",
            "Epoch 24/30\n",
            "125/125 [==============================] - 5s 37ms/step - loss: 2.0384 - accuracy: 0.2070 - val_loss: 1.9626 - val_accuracy: 0.2030\n",
            "Epoch 25/30\n",
            "125/125 [==============================] - 5s 37ms/step - loss: 1.9132 - accuracy: 0.2233 - val_loss: 1.9189 - val_accuracy: 0.1890\n",
            "Epoch 26/30\n",
            "125/125 [==============================] - 5s 37ms/step - loss: 1.8663 - accuracy: 0.2345 - val_loss: 1.8932 - val_accuracy: 0.2340\n",
            "Epoch 27/30\n",
            "125/125 [==============================] - 5s 37ms/step - loss: 1.8814 - accuracy: 0.2227 - val_loss: 1.8319 - val_accuracy: 0.2150\n",
            "Epoch 28/30\n",
            "125/125 [==============================] - 5s 37ms/step - loss: 1.8220 - accuracy: 0.2300 - val_loss: 1.8920 - val_accuracy: 0.2360\n",
            "Epoch 29/30\n",
            "125/125 [==============================] - 5s 37ms/step - loss: 1.7814 - accuracy: 0.2387 - val_loss: 1.8107 - val_accuracy: 0.2190\n",
            "Epoch 30/30\n",
            "125/125 [==============================] - 5s 37ms/step - loss: 1.7922 - accuracy: 0.2403 - val_loss: 1.7571 - val_accuracy: 0.2400\n"
          ]
        }
      ],
      "source": [
        "logs[\"Baseline\"] = baseline_model.fit(train_ds,train_label,\n",
        "                            epochs=30,callbacks=baseline_cb,\n",
        "                            validation_data=(val_ds,val_label))"
      ]
    },
    {
      "cell_type": "code",
      "execution_count": 14,
      "metadata": {
        "id": "FR53s0Z3tT6y",
        "outputId": "340887df-ef25-426f-afd4-149be44cbdde",
        "colab": {
          "base_uri": "https://localhost:8080/"
        }
      },
      "outputs": [
        {
          "output_type": "stream",
          "name": "stdout",
          "text": [
            "32/32 [==============================] - 0s 9ms/step - loss: 1.7571 - accuracy: 0.2400\n",
            "[1.7570881843566895, 0.23999999463558197]\n",
            "32/32 [==============================] - 0s 8ms/step\n"
          ]
        }
      ],
      "source": [
        "print(baseline_model.evaluate(val_ds,val_label))\n",
        "baseline_predictions=baseline_model.predict(val_ds)"
      ]
    },
    {
      "cell_type": "code",
      "execution_count": 15,
      "metadata": {
        "id": "PS1DKPUQtT6y",
        "outputId": "3a8dca7c-a771-4388-fabf-08a788b74d3e",
        "colab": {
          "base_uri": "https://localhost:8080/",
          "height": 296
        }
      },
      "outputs": [
        {
          "output_type": "execute_result",
          "data": {
            "text/plain": [
              "<sklearn.metrics._plot.confusion_matrix.ConfusionMatrixDisplay at 0x7fba0c353a30>"
            ]
          },
          "metadata": {},
          "execution_count": 15
        },
        {
          "output_type": "display_data",
          "data": {
            "text/plain": [
              "<Figure size 432x288 with 2 Axes>"
            ],
            "image/png": "[encoded data removed]"
          },
          "metadata": {
            "needs_background": "light"
          }
        }
      ],
      "source": [
        "baseline_cm=confusion_matrix(np.argmax(baseline_predictions,axis=1),val_label)\n",
        "ConfusionMatrixDisplay(baseline_cm).plot()"
      ]
    },
    {
      "cell_type": "code",
      "execution_count": 18,
      "metadata": {
        "id": "eK5W0TZytT6z",
        "outputId": "f8b22e88-7092-4f85-e685-f2fcbfe3616f",
        "colab": {
          "base_uri": "https://localhost:8080/",
          "height": 513
        }
      },
      "outputs": [
        {
          "output_type": "display_data",
          "data": {
            "text/plain": [
              "<Figure size 720x576 with 2 Axes>"
            ],
            "image/png": "[encoded data removed]"
          },
          "metadata": {
            "needs_background": "light"
          }
        }
      ],
      "source": [
        "plot_accuracy_loss(logs['Baseline'])"
      ]
    },
    {
      "cell_type": "code",
      "execution_count": 16,
      "metadata": {
        "id": "iggYxwantT6z",
        "outputId": "eaac98f7-0428-4c88-c743-b54952fa3152",
        "colab": {
          "base_uri": "https://localhost:8080/"
        }
      },
      "outputs": [
        {
          "output_type": "stream",
          "name": "stdout",
          "text": [
            "125/125 [==============================] - 1s 8ms/step\n",
            "accuracy of the baseline model on training set: 0.2555\n",
            "accuracy of the baseline model on validation set: 0.24\n"
          ]
        }
      ],
      "source": [
        "print(f\"accuracy of the baseline model on training set: {accuracy_score(train_label,np.argmax(baseline_model.predict(train_ds),axis=1))}\")\n",
        "print(f\"accuracy of the baseline model on validation set: {accuracy_score(val_label,np.argmax(baseline_predictions,axis=1))}\")"
      ]
    },
    {
      "cell_type": "markdown",
      "metadata": {
        "id": "Khx9h3e8tT60"
      },
      "source": [
        "For our baseline model, we get a low accuracy on both the training and the validation set. \n",
        "Also we can see with the confusion matrix that the model only predict on few labels and miss many of them. We need to add complexity so that the model also predicts on the other labels. Also we need to be careful of overfitting."
      ]
    },
    {
      "cell_type": "markdown",
      "metadata": {
        "id": "9jP92HuBtT60"
      },
      "source": [
        "### Convolutional Neural Network\n",
        "\n",
        "With this model, we want to add complexity by adding more suitable layers such as Convolution2D and MaxPool2D. This model "
      ]
    },
    {
      "cell_type": "code",
      "execution_count": 19,
      "metadata": {
        "id": "-Hqpp58TtT61",
        "outputId": "61642c32-c11a-4a69-a1f7-15a9472b6432",
        "colab": {
          "base_uri": "https://localhost:8080/"
        }
      },
      "outputs": [
        {
          "output_type": "stream",
          "name": "stdout",
          "text": [
            "Model: \"sequential_1\"\n",
            "_________________________________________________________________\n",
            " Layer (type)                Output Shape              Param #   \n",
            "=================================================================\n",
            " conv2d (Conv2D)             (None, 148, 148, 64)      1792      \n",
            "                                                                 \n",
            " max_pooling2d (MaxPooling2D  (None, 74, 74, 64)       0         \n",
            " )                                                               \n",
            "                                                                 \n",
            " conv2d_1 (Conv2D)           (None, 72, 72, 20)        11540     \n",
            "                                                                 \n",
            " max_pooling2d_1 (MaxPooling  (None, 36, 36, 20)       0         \n",
            " 2D)                                                             \n",
            "                                                                 \n",
            " conv2d_2 (Conv2D)           (None, 34, 34, 12)        2172      \n",
            "                                                                 \n",
            " max_pooling2d_2 (MaxPooling  (None, 17, 17, 12)       0         \n",
            " 2D)                                                             \n",
            "                                                                 \n",
            " conv2d_3 (Conv2D)           (None, 15, 15, 8)         872       \n",
            "                                                                 \n",
            " max_pooling2d_3 (MaxPooling  (None, 7, 7, 8)          0         \n",
            " 2D)                                                             \n",
            "                                                                 \n",
            " flatten_1 (Flatten)         (None, 392)               0         \n",
            "                                                                 \n",
            " dense_3 (Dense)             (None, 128)               50304     \n",
            "                                                                 \n",
            " dense_4 (Dense)             (None, 8)                 1032      \n",
            "                                                                 \n",
            "=================================================================\n",
            "Total params: 67,712\n",
            "Trainable params: 67,712\n",
            "Non-trainable params: 0\n",
            "_________________________________________________________________\n"
          ]
        }
      ],
      "source": [
        "basic_cnn = Sequential([\n",
        "            layers.Convolution2D(64, (3 ,3), activation='relu',input_shape=(150,150,3)),\n",
        "            layers.MaxPool2D(pool_size=(2, 2)),\n",
        "            layers.Convolution2D(20, (3, 3), activation='relu'),\n",
        "            layers.MaxPool2D(pool_size=(2, 2)),\n",
        "            layers.Convolution2D(12, (3, 3), activation='relu'),\n",
        "            layers.MaxPool2D(pool_size=(2, 2)),\n",
        "            layers.Convolution2D(8, (3, 3), activation='relu'),\n",
        "            layers.MaxPool2D(pool_size=(2, 2)),\n",
        "            layers.Flatten(),\n",
        "            layers.Dense(activation='relu', units=128),\n",
        "            layers.Dense(activation='softmax', units=8),\n",
        "])\n",
        "basic_cnn.summary()"
      ]
    },
    {
      "cell_type": "code",
      "execution_count": 20,
      "metadata": {
        "id": "RK27e1b1tT61"
      },
      "outputs": [],
      "source": [
        "log_dir = \"logs/colorectal_project_CNN\" + datetime.datetime.now().strftime(\"%Y%m%d-%H%M%S\")\n",
        "basic_CNN_cb = tf.keras.callbacks.TensorBoard(log_dir=log_dir, histogram_freq=1)\n"
      ]
    },
    {
      "cell_type": "code",
      "execution_count": 21,
      "metadata": {
        "id": "yXQ6S1r4tT61",
        "outputId": "6d97b062-ab22-4e20-b786-aa2c8b7fdd56",
        "colab": {
          "base_uri": "https://localhost:8080/"
        }
      },
      "outputs": [
        {
          "output_type": "stream",
          "name": "stdout",
          "text": [
            "Epoch 1/30\n",
            "125/125 [==============================] - 15s 30ms/step - loss: 2.4179 - accuracy: 0.2765 - val_loss: 1.6836 - val_accuracy: 0.3270\n",
            "Epoch 2/30\n",
            "125/125 [==============================] - 4s 29ms/step - loss: 1.4705 - accuracy: 0.4185 - val_loss: 1.2440 - val_accuracy: 0.5290\n",
            "Epoch 3/30\n",
            "125/125 [==============================] - 3s 27ms/step - loss: 1.3002 - accuracy: 0.4875 - val_loss: 1.5615 - val_accuracy: 0.3410\n",
            "Epoch 4/30\n",
            "125/125 [==============================] - 3s 27ms/step - loss: 1.3100 - accuracy: 0.4642 - val_loss: 1.2857 - val_accuracy: 0.4720\n",
            "Epoch 5/30\n",
            "125/125 [==============================] - 4s 28ms/step - loss: 1.0611 - accuracy: 0.5742 - val_loss: 1.0850 - val_accuracy: 0.5240\n",
            "Epoch 6/30\n",
            "125/125 [==============================] - 4s 28ms/step - loss: 0.9675 - accuracy: 0.6162 - val_loss: 0.9381 - val_accuracy: 0.5910\n",
            "Epoch 7/30\n",
            "125/125 [==============================] - 4s 30ms/step - loss: 0.8532 - accuracy: 0.6532 - val_loss: 0.9596 - val_accuracy: 0.6000\n",
            "Epoch 8/30\n",
            "125/125 [==============================] - 4s 30ms/step - loss: 0.7654 - accuracy: 0.6963 - val_loss: 0.9032 - val_accuracy: 0.6390\n",
            "Epoch 9/30\n",
            "125/125 [==============================] - 4s 31ms/step - loss: 0.7087 - accuracy: 0.7260 - val_loss: 1.1223 - val_accuracy: 0.5710\n",
            "Epoch 10/30\n",
            "125/125 [==============================] - 4s 31ms/step - loss: 0.5876 - accuracy: 0.7688 - val_loss: 0.9541 - val_accuracy: 0.6190\n",
            "Epoch 11/30\n",
            "125/125 [==============================] - 4s 30ms/step - loss: 0.5537 - accuracy: 0.7880 - val_loss: 1.0077 - val_accuracy: 0.6420\n",
            "Epoch 12/30\n",
            "125/125 [==============================] - 4s 29ms/step - loss: 0.5911 - accuracy: 0.7753 - val_loss: 1.1957 - val_accuracy: 0.5440\n",
            "Epoch 13/30\n",
            "125/125 [==============================] - 4s 29ms/step - loss: 0.6674 - accuracy: 0.7358 - val_loss: 1.1831 - val_accuracy: 0.6160\n",
            "Epoch 14/30\n",
            "125/125 [==============================] - 4s 30ms/step - loss: 0.4769 - accuracy: 0.8133 - val_loss: 1.1693 - val_accuracy: 0.6050\n",
            "Epoch 15/30\n",
            "125/125 [==============================] - 4s 29ms/step - loss: 0.3935 - accuracy: 0.8445 - val_loss: 1.2575 - val_accuracy: 0.6290\n",
            "Epoch 16/30\n",
            "125/125 [==============================] - 4s 30ms/step - loss: 0.3725 - accuracy: 0.8600 - val_loss: 1.3124 - val_accuracy: 0.6220\n",
            "Epoch 17/30\n",
            "125/125 [==============================] - 4s 31ms/step - loss: 0.3038 - accuracy: 0.8817 - val_loss: 1.3726 - val_accuracy: 0.6490\n",
            "Epoch 18/30\n",
            "125/125 [==============================] - 4s 31ms/step - loss: 0.2839 - accuracy: 0.8920 - val_loss: 1.5060 - val_accuracy: 0.6560\n",
            "Epoch 19/30\n",
            "125/125 [==============================] - 4s 28ms/step - loss: 0.2406 - accuracy: 0.9093 - val_loss: 1.8159 - val_accuracy: 0.6310\n",
            "Epoch 20/30\n",
            "125/125 [==============================] - 4s 30ms/step - loss: 0.2444 - accuracy: 0.9095 - val_loss: 1.6419 - val_accuracy: 0.6180\n",
            "Epoch 21/30\n",
            "125/125 [==============================] - 4s 29ms/step - loss: 0.2576 - accuracy: 0.9147 - val_loss: 1.5618 - val_accuracy: 0.6190\n",
            "Epoch 22/30\n",
            "125/125 [==============================] - 4s 28ms/step - loss: 0.2130 - accuracy: 0.9262 - val_loss: 1.9510 - val_accuracy: 0.6270\n",
            "Epoch 23/30\n",
            "125/125 [==============================] - 4s 30ms/step - loss: 0.1563 - accuracy: 0.9498 - val_loss: 2.1513 - val_accuracy: 0.6360\n",
            "Epoch 24/30\n",
            "125/125 [==============================] - 4s 29ms/step - loss: 0.1824 - accuracy: 0.9413 - val_loss: 1.9241 - val_accuracy: 0.6310\n",
            "Epoch 25/30\n",
            "125/125 [==============================] - 4s 28ms/step - loss: 0.1447 - accuracy: 0.9545 - val_loss: 2.1189 - val_accuracy: 0.6410\n",
            "Epoch 26/30\n",
            "125/125 [==============================] - 4s 30ms/step - loss: 0.1165 - accuracy: 0.9645 - val_loss: 2.3160 - val_accuracy: 0.6150\n",
            "Epoch 27/30\n",
            "125/125 [==============================] - 4s 28ms/step - loss: 0.0987 - accuracy: 0.9682 - val_loss: 2.2913 - val_accuracy: 0.6330\n",
            "Epoch 28/30\n",
            "125/125 [==============================] - 4s 30ms/step - loss: 0.1215 - accuracy: 0.9597 - val_loss: 2.4058 - val_accuracy: 0.6240\n",
            "Epoch 29/30\n",
            "125/125 [==============================] - 4s 28ms/step - loss: 0.1402 - accuracy: 0.9557 - val_loss: 2.1597 - val_accuracy: 0.6240\n",
            "Epoch 30/30\n",
            "125/125 [==============================] - 4s 30ms/step - loss: 0.1138 - accuracy: 0.9632 - val_loss: 2.5467 - val_accuracy: 0.6460\n"
          ]
        }
      ],
      "source": [
        "basic_cnn.compile(optimizer=\"adam\",loss=tf.keras.losses.SparseCategoricalCrossentropy(),\n",
        "metrics=\"accuracy\")\n",
        "history_cnn=basic_cnn.fit(train_ds,train_label,\n",
        "                            epochs=30,\n",
        "                            validation_data=(val_ds,val_label),callbacks=basic_CNN_cb)"
      ]
    },
    {
      "cell_type": "code",
      "execution_count": 24,
      "metadata": {
        "id": "0h4bvjMotT61",
        "outputId": "4177c7f0-482f-4b62-a447-5534e2836c57",
        "colab": {
          "base_uri": "https://localhost:8080/",
          "height": 513
        }
      },
      "outputs": [
        {
          "output_type": "display_data",
          "data": {
            "text/plain": [
              "<Figure size 720x576 with 2 Axes>"
            ],
            "image/png": "[encoded data removed]"
          },
          "metadata": {
            "needs_background": "light"
          }
        }
      ],
      "source": [
        "plot_accuracy_loss(history_cnn)"
      ]
    },
    {
      "cell_type": "markdown",
      "metadata": {
        "id": "JfFmAQ3gtT62"
      },
      "source": [
        "On the graph shown ,we can clearly see at 10th epochs, the validation loss stopped decreasing while the training loss kept decreasing. Underfitting is quite obvious here, we will confirm this intuition with confusion matrix."
      ]
    },
    {
      "cell_type": "code",
      "execution_count": 25,
      "metadata": {
        "id": "7aBhghdqtT62",
        "outputId": "3f3beb86-36e2-4377-e120-070120b59a3c",
        "colab": {
          "base_uri": "https://localhost:8080/"
        }
      },
      "outputs": [
        {
          "output_type": "stream",
          "name": "stdout",
          "text": [
            "32/32 [==============================] - 0s 10ms/step\n"
          ]
        }
      ],
      "source": [
        "cnn_prediction=basic_cnn.predict(val_ds)"
      ]
    },
    {
      "cell_type": "code",
      "execution_count": 26,
      "metadata": {
        "id": "iNyzj0A5tT62",
        "outputId": "a1a1f9fe-1606-4ee6-8c75-2eb40a1d3eb3",
        "colab": {
          "base_uri": "https://localhost:8080/",
          "height": 297
        }
      },
      "outputs": [
        {
          "output_type": "execute_result",
          "data": {
            "text/plain": [
              "<sklearn.metrics._plot.confusion_matrix.ConfusionMatrixDisplay at 0x7fb9e5797100>"
            ]
          },
          "metadata": {},
          "execution_count": 26
        },
        {
          "output_type": "display_data",
          "data": {
            "text/plain": [
              "<Figure size 432x288 with 2 Axes>"
            ],
            "image/png": "[encoded data removed]"
          },
          "metadata": {
            "needs_background": "light"
          }
        }
      ],
      "source": [
        "moredepth_cm=confusion_matrix(np.argmax(cnn_prediction,axis=1),val_label)\n",
        "ConfusionMatrixDisplay(moredepth_cm).plot()"
      ]
    },
    {
      "cell_type": "markdown",
      "metadata": {
        "id": "qOkAj5fztT62"
      },
      "source": [
        "From the plots, we can clearly see that the model performs very well on the training set but not on the validation set. We reached a good generalization and now to improve the performance on the validation set we need to reduce the overfitting. To do so, we could either use a Dropout layer or add data augmentation to add data. \n",
        "We will try the 2nd option and see if it works."
      ]
    },
    {
      "cell_type": "code",
      "source": [
        "print(f\"accuracy of the first CNN model on training set: {accuracy_score(train_label,np.argmax(basic_cnn.predict(train_ds),axis=1))}\")\n",
        "print(f\"accuracy of the first CNN model on validation set: {accuracy_score(val_label,np.argmax(cnn_prediction,axis=1))}\")"
      ],
      "metadata": {
        "id": "FiwyPgwCyAS9",
        "outputId": "7e882048-0f5b-4318-f7da-455532e48255",
        "colab": {
          "base_uri": "https://localhost:8080/"
        }
      },
      "execution_count": 27,
      "outputs": [
        {
          "output_type": "stream",
          "name": "stdout",
          "text": [
            "125/125 [==============================] - 1s 9ms/step\n",
            "accuracy of the first CNN model on training set: 0.982\n",
            "accuracy of the first CNN model on validation set: 0.646\n"
          ]
        }
      ]
    },
    {
      "cell_type": "markdown",
      "metadata": {
        "id": "MLQh779ltT63"
      },
      "source": [
        "### Reduce overfitting"
      ]
    },
    {
      "cell_type": "markdown",
      "metadata": {
        "id": "EcwRMTdctT63"
      },
      "source": [
        "#### Data Augmentation"
      ]
    },
    {
      "cell_type": "markdown",
      "metadata": {
        "id": "mbZteIoftT63"
      },
      "source": [
        "In this part we will add Data Augmentation layers to add different point of view for the model. We expect the model to be less overfitted since it will train on more data. "
      ]
    },
    {
      "cell_type": "code",
      "execution_count": 11,
      "metadata": {
        "id": "fRCNoO6ZtT63"
      },
      "outputs": [],
      "source": [
        "augmented_cnn = Sequential([\n",
        "            tf.keras.layers.RandomFlip(\"horizontal_and_vertical\"),\n",
        "            tf.keras.layers.RandomRotation(0.2),\n",
        "            layers.Convolution2D(64, (3 ,3), activation='relu',input_shape=(150,150,3)),\n",
        "            layers.MaxPool2D(pool_size=(2, 2)),\n",
        "            layers.Convolution2D(20, (3, 3), activation='relu'),\n",
        "            layers.MaxPool2D(pool_size=(2, 2)),\n",
        "            layers.Convolution2D(12, (3, 3), activation='relu'),\n",
        "            layers.MaxPool2D(pool_size=(2, 2)),\n",
        "            layers.Convolution2D(8, (3, 3), activation='relu'),\n",
        "            layers.MaxPool2D(pool_size=(2, 2)),\n",
        "            layers.Flatten(),\n",
        "            layers.Dense(activation='elu', units=128),\n",
        "            layers.Dense(activation='softmax', units=8),\n",
        "])\n"
      ]
    },
    {
      "cell_type": "code",
      "execution_count": 12,
      "metadata": {
        "id": "WOSdbzdYtT64"
      },
      "outputs": [],
      "source": [
        "log_dir = \"logs/colorectal_project_augmented\" + datetime.datetime.now().strftime(\"%Y%m%d-%H%M%S\")\n",
        "augmented_CNN_cb = tf.keras.callbacks.TensorBoard(log_dir=log_dir, histogram_freq=1)\n"
      ]
    },
    {
      "cell_type": "code",
      "execution_count": 13,
      "metadata": {
        "id": "IhQPOFLitT64",
        "outputId": "2335febe-08ec-4e3c-a3ad-2826cef85acb",
        "colab": {
          "base_uri": "https://localhost:8080/"
        }
      },
      "outputs": [
        {
          "output_type": "stream",
          "name": "stdout",
          "text": [
            "Epoch 1/30\n",
            "125/125 [==============================] - 7s 49ms/step - loss: 2.5649 - accuracy: 0.2657 - val_loss: 1.5388 - val_accuracy: 0.2930\n",
            "Epoch 2/30\n",
            "125/125 [==============================] - 6s 47ms/step - loss: 1.4600 - accuracy: 0.4395 - val_loss: 1.5159 - val_accuracy: 0.3240\n",
            "Epoch 3/30\n",
            "125/125 [==============================] - 6s 47ms/step - loss: 1.2338 - accuracy: 0.5060 - val_loss: 1.0241 - val_accuracy: 0.5780\n",
            "Epoch 4/30\n",
            "125/125 [==============================] - 6s 47ms/step - loss: 1.0162 - accuracy: 0.6152 - val_loss: 0.8569 - val_accuracy: 0.6710\n",
            "Epoch 5/30\n",
            "125/125 [==============================] - 6s 47ms/step - loss: 0.9364 - accuracy: 0.6392 - val_loss: 0.8705 - val_accuracy: 0.6570\n",
            "Epoch 6/30\n",
            "125/125 [==============================] - 6s 47ms/step - loss: 1.0012 - accuracy: 0.5993 - val_loss: 0.9435 - val_accuracy: 0.6540\n",
            "Epoch 7/30\n",
            "125/125 [==============================] - 6s 47ms/step - loss: 0.8769 - accuracy: 0.6628 - val_loss: 0.8549 - val_accuracy: 0.6680\n",
            "Epoch 8/30\n",
            "125/125 [==============================] - 6s 47ms/step - loss: 0.7975 - accuracy: 0.6898 - val_loss: 0.7488 - val_accuracy: 0.7200\n",
            "Epoch 9/30\n",
            "125/125 [==============================] - 6s 48ms/step - loss: 0.8060 - accuracy: 0.6840 - val_loss: 0.7407 - val_accuracy: 0.7290\n",
            "Epoch 10/30\n",
            "125/125 [==============================] - 7s 59ms/step - loss: 0.7661 - accuracy: 0.7050 - val_loss: 0.6295 - val_accuracy: 0.7660\n",
            "Epoch 11/30\n",
            "125/125 [==============================] - 7s 54ms/step - loss: 0.7804 - accuracy: 0.7028 - val_loss: 0.9712 - val_accuracy: 0.6390\n",
            "Epoch 12/30\n",
            "125/125 [==============================] - 8s 61ms/step - loss: 0.7538 - accuracy: 0.7085 - val_loss: 0.8867 - val_accuracy: 0.6270\n",
            "Epoch 13/30\n",
            "125/125 [==============================] - 7s 57ms/step - loss: 0.7902 - accuracy: 0.6995 - val_loss: 0.6567 - val_accuracy: 0.7470\n",
            "Epoch 14/30\n",
            "125/125 [==============================] - 6s 50ms/step - loss: 0.7034 - accuracy: 0.7347 - val_loss: 0.6758 - val_accuracy: 0.7510\n",
            "Epoch 15/30\n",
            "125/125 [==============================] - 6s 50ms/step - loss: 0.6474 - accuracy: 0.7508 - val_loss: 0.7062 - val_accuracy: 0.7270\n",
            "Epoch 16/30\n",
            "125/125 [==============================] - 6s 50ms/step - loss: 0.6582 - accuracy: 0.7450 - val_loss: 0.6619 - val_accuracy: 0.7510\n",
            "Epoch 17/30\n",
            "125/125 [==============================] - 6s 47ms/step - loss: 0.6467 - accuracy: 0.7560 - val_loss: 0.8237 - val_accuracy: 0.6880\n",
            "Epoch 18/30\n",
            "125/125 [==============================] - 6s 47ms/step - loss: 0.7007 - accuracy: 0.7290 - val_loss: 0.6144 - val_accuracy: 0.7670\n",
            "Epoch 19/30\n",
            "125/125 [==============================] - 6s 47ms/step - loss: 0.6636 - accuracy: 0.7437 - val_loss: 0.6226 - val_accuracy: 0.7750\n",
            "Epoch 20/30\n",
            "125/125 [==============================] - 6s 46ms/step - loss: 0.6079 - accuracy: 0.7755 - val_loss: 0.5754 - val_accuracy: 0.7780\n",
            "Epoch 21/30\n",
            "125/125 [==============================] - 6s 47ms/step - loss: 0.5996 - accuracy: 0.7720 - val_loss: 0.6220 - val_accuracy: 0.7580\n",
            "Epoch 22/30\n",
            "125/125 [==============================] - 6s 47ms/step - loss: 0.5678 - accuracy: 0.7943 - val_loss: 0.6172 - val_accuracy: 0.7620\n",
            "Epoch 23/30\n",
            "125/125 [==============================] - 6s 47ms/step - loss: 0.5688 - accuracy: 0.7915 - val_loss: 0.5709 - val_accuracy: 0.7760\n",
            "Epoch 24/30\n",
            "125/125 [==============================] - 6s 47ms/step - loss: 0.8426 - accuracy: 0.7013 - val_loss: 0.6649 - val_accuracy: 0.7530\n",
            "Epoch 25/30\n",
            "125/125 [==============================] - 6s 47ms/step - loss: 0.7845 - accuracy: 0.7025 - val_loss: 0.6486 - val_accuracy: 0.7410\n",
            "Epoch 26/30\n",
            "125/125 [==============================] - 6s 47ms/step - loss: 0.5818 - accuracy: 0.7915 - val_loss: 0.6295 - val_accuracy: 0.7570\n",
            "Epoch 27/30\n",
            "125/125 [==============================] - 6s 48ms/step - loss: 0.5789 - accuracy: 0.7860 - val_loss: 0.5475 - val_accuracy: 0.7900\n",
            "Epoch 28/30\n",
            "125/125 [==============================] - 6s 48ms/step - loss: 0.5754 - accuracy: 0.7890 - val_loss: 0.6145 - val_accuracy: 0.7690\n",
            "Epoch 29/30\n",
            "125/125 [==============================] - 6s 50ms/step - loss: 0.5657 - accuracy: 0.7847 - val_loss: 0.5866 - val_accuracy: 0.7680\n",
            "Epoch 30/30\n",
            "125/125 [==============================] - 6s 50ms/step - loss: 0.5325 - accuracy: 0.8027 - val_loss: 0.5318 - val_accuracy: 0.8030\n"
          ]
        }
      ],
      "source": [
        "augmented_cnn.compile(optimizer=\"adam\",loss=tf.keras.losses.SparseCategoricalCrossentropy(),\n",
        "metrics=\"accuracy\")\n",
        "history_augmented=augmented_cnn.fit(train_ds,train_label,\n",
        "                            epochs=30,\n",
        "                            validation_data=(val_ds,val_label),callbacks=augmented_CNN_cb)"
      ]
    },
    {
      "cell_type": "code",
      "execution_count": 31,
      "metadata": {
        "id": "gE9Fe57MtT65",
        "outputId": "dc800029-af19-4480-87df-2b70c705cb15",
        "colab": {
          "base_uri": "https://localhost:8080/",
          "height": 513
        }
      },
      "outputs": [
        {
          "output_type": "display_data",
          "data": {
            "text/plain": [
              "<Figure size 720x576 with 2 Axes>"
            ],
            "image/png": "[encoded data removed]"
          },
          "metadata": {
            "needs_background": "light"
          }
        }
      ],
      "source": [
        "plot_accuracy_loss(history_augmented)"
      ]
    },
    {
      "cell_type": "markdown",
      "metadata": {
        "id": "BOGDjezptT66"
      },
      "source": [
        "On the graph shown ,we can clearly see at 10th epochs, the validation loss stopped decreasing while the training loss kept decreasing. Underfitting is quite obvious here, we will confirm this intuition with confusion matrix."
      ]
    },
    {
      "cell_type": "code",
      "execution_count": 32,
      "metadata": {
        "id": "aII-s07utT66",
        "outputId": "7275594c-ff3a-48e0-af3f-c937b4e85f03",
        "colab": {
          "base_uri": "https://localhost:8080/"
        }
      },
      "outputs": [
        {
          "output_type": "stream",
          "name": "stdout",
          "text": [
            "32/32 [==============================] - 0s 10ms/step\n"
          ]
        }
      ],
      "source": [
        "augmented_prediction=augmented_cnn.predict(val_ds)"
      ]
    },
    {
      "cell_type": "code",
      "execution_count": 34,
      "metadata": {
        "id": "vUaTwuT9tT67",
        "outputId": "673461dc-1631-4d5c-d59a-e87fd905248d",
        "colab": {
          "base_uri": "https://localhost:8080/",
          "height": 296
        }
      },
      "outputs": [
        {
          "output_type": "execute_result",
          "data": {
            "text/plain": [
              "<sklearn.metrics._plot.confusion_matrix.ConfusionMatrixDisplay at 0x7fba0c220280>"
            ]
          },
          "metadata": {},
          "execution_count": 34
        },
        {
          "output_type": "display_data",
          "data": {
            "text/plain": [
              "<Figure size 432x288 with 2 Axes>"
            ],
            "image/png": "[encoded data removed]"
          },
          "metadata": {
            "needs_background": "light"
          }
        }
      ],
      "source": [
        "augmented_cm=confusion_matrix(np.argmax(augmented_prediction,axis=1),val_label)\n",
        "ConfusionMatrixDisplay(augmented_cm).plot()"
      ]
    },
    {
      "cell_type": "code",
      "source": [
        "print(f\"accuracy of the augmented CNN model on training set: {accuracy_score(train_label,np.argmax(augmented_cnn.predict(train_ds),axis=1))}\")\n",
        "print(f\"accuracy of the augmented CNN model on validation set: {accuracy_score(val_label,np.argmax(augmented_prediction,axis=1))}\")"
      ],
      "metadata": {
        "id": "kpyNzEjz2zFf",
        "outputId": "c34ce924-52c3-497c-a272-b6bfebd9629d",
        "colab": {
          "base_uri": "https://localhost:8080/"
        }
      },
      "execution_count": 35,
      "outputs": [
        {
          "output_type": "stream",
          "name": "stdout",
          "text": [
            "125/125 [==============================] - 1s 9ms/step\n",
            "accuracy of the augmented CNN model on training set: 0.8475\n",
            "accuracy of the augmented CNN model on validation set: 0.812\n"
          ]
        }
      ]
    },
    {
      "cell_type": "markdown",
      "metadata": {
        "id": "Vx00g-c6tT67"
      },
      "source": [
        "#### Add complexity and early stoppings"
      ]
    },
    {
      "cell_type": "markdown",
      "metadata": {
        "id": "QWMRfC52tT68"
      },
      "source": [
        "In the previous step, we use data augmentation to reduce overfitting and it worked very well. Now we will add complexity and a early-stopping callback to prevent overfitting again. Also it sould save us some computational time. If this step doesn't work, we will stick to the already very accurate model."
      ]
    },
    {
      "cell_type": "code",
      "execution_count": null,
      "metadata": {
        "id": "wW55JQtctT68"
      },
      "outputs": [],
      "source": []
    },
    {
      "cell_type": "code",
      "execution_count": 4,
      "metadata": {
        "id": "CIWrEOhRtT68"
      },
      "outputs": [],
      "source": [
        "wider_cnn = Sequential([\n",
        "            tf.keras.layers.RandomFlip(\"horizontal_and_vertical\"),\n",
        "            tf.keras.layers.RandomRotation(0.2),\n",
        "            layers.Convolution2D(64, (3 ,3), activation='relu',input_shape=(150,150,3)),\n",
        "            layers.MaxPool2D(pool_size=(2, 2)),\n",
        "            layers.Convolution2D(20, (3, 3), activation='relu'),\n",
        "            layers.MaxPool2D(pool_size=(2, 2)),\n",
        "            layers.Convolution2D(12, (3, 3), activation='relu'),\n",
        "            layers.MaxPool2D(pool_size=(2, 2)),\n",
        "            layers.Convolution2D(8, (3, 3), activation='relu'),\n",
        "            layers.MaxPool2D(pool_size=(2, 2)),\n",
        "            layers.Flatten(),\n",
        "            layers.Dense(activation='relu', units=128),\n",
        "            layers.Dense(activation='softmax', units=8),\n",
        "])\n"
      ]
    },
    {
      "cell_type": "code",
      "execution_count": 5,
      "metadata": {
        "id": "QJwYvW9_tT69"
      },
      "outputs": [],
      "source": [
        "log_dir = \"logs/colorectal_project_wider\" + datetime.datetime.now().strftime(\"%Y%m%d-%H%M%S\")\n",
        "wider_CNN_cb = [\n",
        "    tf.keras.callbacks.EarlyStopping(monitor=\"val_loss\",patience=5,restore_best_weights=True),\n",
        "tf.keras.callbacks.TensorBoard(log_dir=log_dir, histogram_freq=1)]\n"
      ]
    },
    {
      "cell_type": "code",
      "execution_count": 6,
      "metadata": {
        "id": "vikToGgltT6-",
        "outputId": "414f1e94-ba51-4606-ff01-8d299f586a2a",
        "colab": {
          "base_uri": "https://localhost:8080/"
        }
      },
      "outputs": [
        {
          "output_type": "stream",
          "name": "stdout",
          "text": [
            "Epoch 1/60\n",
            "125/125 [==============================] - 17s 53ms/step - loss: 2.1054 - accuracy: 0.2505 - val_loss: 1.7428 - val_accuracy: 0.3230\n",
            "Epoch 2/60\n",
            "125/125 [==============================] - 6s 47ms/step - loss: 1.6221 - accuracy: 0.3528 - val_loss: 1.4768 - val_accuracy: 0.4170\n",
            "Epoch 3/60\n",
            "125/125 [==============================] - 6s 48ms/step - loss: 1.4296 - accuracy: 0.4308 - val_loss: 1.2773 - val_accuracy: 0.5090\n",
            "Epoch 4/60\n",
            "125/125 [==============================] - 6s 48ms/step - loss: 1.3305 - accuracy: 0.4473 - val_loss: 1.1759 - val_accuracy: 0.5180\n",
            "Epoch 5/60\n",
            "125/125 [==============================] - 6s 47ms/step - loss: 1.1759 - accuracy: 0.5170 - val_loss: 1.0392 - val_accuracy: 0.5690\n",
            "Epoch 6/60\n",
            "125/125 [==============================] - 6s 49ms/step - loss: 1.1011 - accuracy: 0.5465 - val_loss: 0.9909 - val_accuracy: 0.5770\n",
            "Epoch 7/60\n",
            "125/125 [==============================] - 6s 49ms/step - loss: 1.0006 - accuracy: 0.5975 - val_loss: 0.9106 - val_accuracy: 0.6230\n",
            "Epoch 8/60\n",
            "125/125 [==============================] - 6s 48ms/step - loss: 0.9596 - accuracy: 0.6015 - val_loss: 0.9074 - val_accuracy: 0.6190\n",
            "Epoch 9/60\n",
            "125/125 [==============================] - 6s 48ms/step - loss: 0.8926 - accuracy: 0.6403 - val_loss: 0.8576 - val_accuracy: 0.6330\n",
            "Epoch 10/60\n",
            "125/125 [==============================] - 6s 48ms/step - loss: 0.8662 - accuracy: 0.6505 - val_loss: 0.9120 - val_accuracy: 0.6290\n",
            "Epoch 11/60\n",
            "125/125 [==============================] - 6s 49ms/step - loss: 0.8372 - accuracy: 0.6702 - val_loss: 0.7937 - val_accuracy: 0.6820\n",
            "Epoch 12/60\n",
            "125/125 [==============================] - 6s 48ms/step - loss: 0.8102 - accuracy: 0.6743 - val_loss: 0.7509 - val_accuracy: 0.7000\n",
            "Epoch 13/60\n",
            "125/125 [==============================] - 6s 48ms/step - loss: 0.7896 - accuracy: 0.6933 - val_loss: 0.8036 - val_accuracy: 0.6670\n",
            "Epoch 14/60\n",
            "125/125 [==============================] - 6s 48ms/step - loss: 0.8096 - accuracy: 0.6880 - val_loss: 0.7572 - val_accuracy: 0.6930\n",
            "Epoch 15/60\n",
            "125/125 [==============================] - 6s 47ms/step - loss: 0.7030 - accuracy: 0.7375 - val_loss: 0.6865 - val_accuracy: 0.7490\n",
            "Epoch 16/60\n",
            "125/125 [==============================] - 6s 48ms/step - loss: 0.6767 - accuracy: 0.7368 - val_loss: 0.7038 - val_accuracy: 0.7320\n",
            "Epoch 17/60\n",
            "125/125 [==============================] - 6s 47ms/step - loss: 0.6473 - accuracy: 0.7573 - val_loss: 0.6115 - val_accuracy: 0.7580\n",
            "Epoch 18/60\n",
            "125/125 [==============================] - 6s 48ms/step - loss: 0.6252 - accuracy: 0.7600 - val_loss: 0.6067 - val_accuracy: 0.7540\n",
            "Epoch 19/60\n",
            "125/125 [==============================] - 6s 48ms/step - loss: 0.6498 - accuracy: 0.7502 - val_loss: 0.5916 - val_accuracy: 0.7650\n",
            "Epoch 20/60\n",
            "125/125 [==============================] - 6s 48ms/step - loss: 0.6192 - accuracy: 0.7730 - val_loss: 0.6045 - val_accuracy: 0.7670\n",
            "Epoch 21/60\n",
            "125/125 [==============================] - 6s 47ms/step - loss: 0.9985 - accuracy: 0.6858 - val_loss: 0.6620 - val_accuracy: 0.7650\n",
            "Epoch 22/60\n",
            "125/125 [==============================] - 6s 48ms/step - loss: 0.6189 - accuracy: 0.7713 - val_loss: 0.5599 - val_accuracy: 0.7910\n",
            "Epoch 23/60\n",
            "125/125 [==============================] - 6s 47ms/step - loss: 0.5850 - accuracy: 0.7788 - val_loss: 0.5245 - val_accuracy: 0.7910\n",
            "Epoch 24/60\n",
            "125/125 [==============================] - 6s 48ms/step - loss: 0.6380 - accuracy: 0.7645 - val_loss: 0.5356 - val_accuracy: 0.7960\n",
            "Epoch 25/60\n",
            "125/125 [==============================] - 6s 48ms/step - loss: 0.5884 - accuracy: 0.7820 - val_loss: 0.5792 - val_accuracy: 0.7810\n",
            "Epoch 26/60\n",
            "125/125 [==============================] - 6s 48ms/step - loss: 0.5787 - accuracy: 0.7830 - val_loss: 0.5260 - val_accuracy: 0.7870\n",
            "Epoch 27/60\n",
            "125/125 [==============================] - 6s 47ms/step - loss: 0.5847 - accuracy: 0.7865 - val_loss: 0.5932 - val_accuracy: 0.7660\n",
            "Epoch 28/60\n",
            "125/125 [==============================] - 6s 47ms/step - loss: 0.5975 - accuracy: 0.7710 - val_loss: 0.5868 - val_accuracy: 0.7670\n"
          ]
        }
      ],
      "source": [
        "wider_cnn.compile(optimizer=\"adam\",loss=tf.keras.losses.SparseCategoricalCrossentropy(),\n",
        "metrics=\"accuracy\")\n",
        "history_wider=wider_cnn.fit(train_ds,train_label,\n",
        "                            epochs=60,\n",
        "                            validation_data=(val_ds,val_label),callbacks=wider_CNN_cb)"
      ]
    },
    {
      "cell_type": "code",
      "execution_count": 14,
      "metadata": {
        "id": "dJOIQzVstT6-",
        "outputId": "0a35475b-2ed6-4824-f585-187f0d5e9e42",
        "colab": {
          "base_uri": "https://localhost:8080/",
          "height": 513
        }
      },
      "outputs": [
        {
          "output_type": "display_data",
          "data": {
            "text/plain": [
              "<Figure size 720x576 with 2 Axes>"
            ],
            "image/png": "[encoded data removed]"
          },
          "metadata": {
            "needs_background": "light"
          }
        }
      ],
      "source": [
        "plot_accuracy_loss(history_wider)"
      ]
    },
    {
      "cell_type": "code",
      "execution_count": 15,
      "metadata": {
        "id": "gQGXK045tT6-",
        "outputId": "1cdbf3d1-0d46-4131-fa06-176bdcb265f6",
        "colab": {
          "base_uri": "https://localhost:8080/"
        }
      },
      "outputs": [
        {
          "output_type": "stream",
          "name": "stdout",
          "text": [
            "32/32 [==============================] - 0s 9ms/step\n"
          ]
        }
      ],
      "source": [
        "wider_prediction=wider_cnn.predict(val_ds)"
      ]
    },
    {
      "cell_type": "code",
      "execution_count": 16,
      "metadata": {
        "id": "Fngg1TfGtT6_",
        "outputId": "1fc38d66-a196-4100-a115-8997cae7b7da",
        "colab": {
          "base_uri": "https://localhost:8080/",
          "height": 296
        }
      },
      "outputs": [
        {
          "output_type": "execute_result",
          "data": {
            "text/plain": [
              "<sklearn.metrics._plot.confusion_matrix.ConfusionMatrixDisplay at 0x7f0e86285940>"
            ]
          },
          "metadata": {},
          "execution_count": 16
        },
        {
          "output_type": "display_data",
          "data": {
            "text/plain": [
              "<Figure size 432x288 with 2 Axes>"
            ],
            "image/png": "[encoded data removed]"
          },
          "metadata": {
            "needs_background": "light"
          }
        }
      ],
      "source": [
        "wider_cm=confusion_matrix(np.argmax(wider_prediction,axis=1),val_label)\n",
        "ConfusionMatrixDisplay(wider_cm).plot()"
      ]
    },
    {
      "cell_type": "code",
      "source": [
        "print(f\"accuracy of the early stopped CNN model on training set: {accuracy_score(train_label,np.argmax(wider_cnn.predict(train_ds),axis=1))}\")\n",
        "print(f\"accuracy of the early stopped CNN model on validation set: {accuracy_score(val_label,np.argmax(wider_prediction,axis=1))}\")"
      ],
      "metadata": {
        "id": "Cy8o-JT0LE20",
        "outputId": "3908434c-1c73-4fd6-8649-c74a5ecd96e9",
        "colab": {
          "base_uri": "https://localhost:8080/"
        }
      },
      "execution_count": 17,
      "outputs": [
        {
          "output_type": "stream",
          "name": "stdout",
          "text": [
            "125/125 [==============================] - 1s 8ms/step\n",
            "accuracy of the early stopped CNN model on training set: 0.8055\n",
            "accuracy of the early stopped CNN model on validation set: 0.791\n"
          ]
        }
      ]
    },
    {
      "cell_type": "markdown",
      "metadata": {
        "id": "5IGR-aoCtT6_"
      },
      "source": [
        "### Archive"
      ]
    },
    {
      "cell_type": "markdown",
      "metadata": {
        "id": "0T0K7V8CtT6_"
      },
      "source": [
        "more_depth_model = Sequential([\n",
        "    layers.Flatten(input_shape=[150, 150,3]),\n",
        "    layers.Dense(300,activation=\"relu\"),\n",
        "    layers.Dense(100,activation=\"relu\"),\n",
        "    layers.Dense(32,activation=\"relu\"),\n",
        "    layers.Dense(8,activation=\"softmax\")\n",
        "])\n",
        "more_depth_model.summary()\n",
        "more_depth_model.compile(optimizer=\"adam\",loss=tf.keras.losses.SparseCategoricalCrossentropy(),\n",
        "metrics=\"accuracy\")\n",
        "For this baseline model, we only add a tensorboard callback to monitor the training.\n",
        "log_dir = \"logs/colorectal_project_depth_\" + datetime.datetime.now().strftime(\"%Y%m%d-%H%M%S\")\n",
        "more_depth_cb = tf.keras.callbacks.TensorBoard(log_dir=log_dir, histogram_freq=1)\n",
        "\n",
        "logs[\"more_depth\"] = more_depth_model.fit(train_ds,train_label,\n",
        "                            epochs=10,callbacks=more_depth_cb,\n",
        "                            validation_data=(val_ds,val_label),batch_size=16)\n",
        "plot_monitoring(logs['more_depth'])\n",
        "print(more_depth_model.evaluate(val_ds,val_label))\n",
        "more_depth_predictions=more_depth_model.predict(val_ds)\n",
        "moredepth_cm=confusion_matrix(np.argmax(more_depth_predictions,axis=1),val_label)\n",
        "ConfusionMatrixDisplay(moredepth_cm).plot()"
      ]
    }
  ],
  "metadata": {
    "kernelspec": {
      "display_name": "Python 3.10.6 64-bit",
      "language": "python",
      "name": "python3"
    },
    "language_info": {
      "codemirror_mode": {
        "name": "ipython",
        "version": 3
      },
      "file_extension": ".py",
      "mimetype": "text/x-python",
      "name": "python",
      "nbconvert_exporter": "python",
      "pygments_lexer": "ipython3",
      "version": "3.10.6"
    },
    "orig_nbformat": 4,
    "vscode": {
      "interpreter": {
        "hash": "916dbcbb3f70747c44a77c7bcd40155683ae19c65e1c03b4aa3499c5328201f1"
      }
    },
    "colab": {
      "provenance": []
    },
    "accelerator": "GPU",
    "gpuClass": "standard",
    "widgets": {
      "application/vnd.jupyter.widget-state+json": {
        "a2394793b6e645c49414d8fb6c098a30": {
          "model_module": "@jupyter-widgets/controls",
          "model_name": "HBoxModel",
          "model_module_version": "1.5.0",
          "state": {
            "_dom_classes": [],
            "_model_module": "@jupyter-widgets/controls",
            "_model_module_version": "1.5.0",
            "_model_name": "HBoxModel",
            "_view_count": null,
            "_view_module": "@jupyter-widgets/controls",
            "_view_module_version": "1.5.0",
            "_view_name": "HBoxView",
            "box_style": "",
            "children": [
              "IPY_MODEL_aa80f49c3b4f4bdf83011dc7718e5bce",
              "IPY_MODEL_13461f9b084740eca201f7441c7beef7",
              "IPY_MODEL_a48938fcc6a34ab0b62ce5eb7a6ab4a5"
            ],
            "layout": "IPY_MODEL_0f6fe07aa5c24d02b85fabb1be28cf92"
          }
        },
        "aa80f49c3b4f4bdf83011dc7718e5bce": {
          "model_module": "@jupyter-widgets/controls",
          "model_name": "HTMLModel",
          "model_module_version": "1.5.0",
          "state": {
            "_dom_classes": [],
            "_model_module": "@jupyter-widgets/controls",
            "_model_module_version": "1.5.0",
            "_model_name": "HTMLModel",
            "_view_count": null,
            "_view_module": "@jupyter-widgets/controls",
            "_view_module_version": "1.5.0",
            "_view_name": "HTMLView",
            "description": "",
            "description_tooltip": null,
            "layout": "IPY_MODEL_c596cc6c4c734f83b48ac6371e227557",
            "placeholder": "​",
            "style": "IPY_MODEL_6978fa4b11aa4a67871e49abb51d8698",
            "value": "Dl Completed...: 100%"
          }
        },
        "13461f9b084740eca201f7441c7beef7": {
          "model_module": "@jupyter-widgets/controls",
          "model_name": "FloatProgressModel",
          "model_module_version": "1.5.0",
          "state": {
            "_dom_classes": [],
            "_model_module": "@jupyter-widgets/controls",
            "_model_module_version": "1.5.0",
            "_model_name": "FloatProgressModel",
            "_view_count": null,
            "_view_module": "@jupyter-widgets/controls",
            "_view_module_version": "1.5.0",
            "_view_name": "ProgressView",
            "bar_style": "success",
            "description": "",
            "description_tooltip": null,
            "layout": "IPY_MODEL_f71c8bf0bf0140338833944eb69bf7de",
            "max": 1,
            "min": 0,
            "orientation": "horizontal",
            "style": "IPY_MODEL_124c3a8c53b241a7ba380becff6adb3d",
            "value": 1
          }
        },
        "a48938fcc6a34ab0b62ce5eb7a6ab4a5": {
          "model_module": "@jupyter-widgets/controls",
          "model_name": "HTMLModel",
          "model_module_version": "1.5.0",
          "state": {
            "_dom_classes": [],
            "_model_module": "@jupyter-widgets/controls",
            "_model_module_version": "1.5.0",
            "_model_name": "HTMLModel",
            "_view_count": null,
            "_view_module": "@jupyter-widgets/controls",
            "_view_module_version": "1.5.0",
            "_view_name": "HTMLView",
            "description": "",
            "description_tooltip": null,
            "layout": "IPY_MODEL_0caa30e348114875b4965b523a3c648b",
            "placeholder": "​",
            "style": "IPY_MODEL_6309398ede994ec7945b36c0624529b6",
            "value": " 1/1 [00:23&lt;00:00, 19.55s/ url]"
          }
        },
        "0f6fe07aa5c24d02b85fabb1be28cf92": {
          "model_module": "@jupyter-widgets/base",
          "model_name": "LayoutModel",
          "model_module_version": "1.2.0",
          "state": {
            "_model_module": "@jupyter-widgets/base",
            "_model_module_version": "1.2.0",
            "_model_name": "LayoutModel",
            "_view_count": null,
            "_view_module": "@jupyter-widgets/base",
            "_view_module_version": "1.2.0",
            "_view_name": "LayoutView",
            "align_content": null,
            "align_items": null,
            "align_self": null,
            "border": null,
            "bottom": null,
            "display": null,
            "flex": null,
            "flex_flow": null,
            "grid_area": null,
            "grid_auto_columns": null,
            "grid_auto_flow": null,
            "grid_auto_rows": null,
            "grid_column": null,
            "grid_gap": null,
            "grid_row": null,
            "grid_template_areas": null,
            "grid_template_columns": null,
            "grid_template_rows": null,
            "height": null,
            "justify_content": null,
            "justify_items": null,
            "left": null,
            "margin": null,
            "max_height": null,
            "max_width": null,
            "min_height": null,
            "min_width": null,
            "object_fit": null,
            "object_position": null,
            "order": null,
            "overflow": null,
            "overflow_x": null,
            "overflow_y": null,
            "padding": null,
            "right": null,
            "top": null,
            "visibility": null,
            "width": null
          }
        },
        "c596cc6c4c734f83b48ac6371e227557": {
          "model_module": "@jupyter-widgets/base",
          "model_name": "LayoutModel",
          "model_module_version": "1.2.0",
          "state": {
            "_model_module": "@jupyter-widgets/base",
            "_model_module_version": "1.2.0",
            "_model_name": "LayoutModel",
            "_view_count": null,
            "_view_module": "@jupyter-widgets/base",
            "_view_module_version": "1.2.0",
            "_view_name": "LayoutView",
            "align_content": null,
            "align_items": null,
            "align_self": null,
            "border": null,
            "bottom": null,
            "display": null,
            "flex": null,
            "flex_flow": null,
            "grid_area": null,
            "grid_auto_columns": null,
            "grid_auto_flow": null,
            "grid_auto_rows": null,
            "grid_column": null,
            "grid_gap": null,
            "grid_row": null,
            "grid_template_areas": null,
            "grid_template_columns": null,
            "grid_template_rows": null,
            "height": null,
            "justify_content": null,
            "justify_items": null,
            "left": null,
            "margin": null,
            "max_height": null,
            "max_width": null,
            "min_height": null,
            "min_width": null,
            "object_fit": null,
            "object_position": null,
            "order": null,
            "overflow": null,
            "overflow_x": null,
            "overflow_y": null,
            "padding": null,
            "right": null,
            "top": null,
            "visibility": null,
            "width": null
          }
        },
        "6978fa4b11aa4a67871e49abb51d8698": {
          "model_module": "@jupyter-widgets/controls",
          "model_name": "DescriptionStyleModel",
          "model_module_version": "1.5.0",
          "state": {
            "_model_module": "@jupyter-widgets/controls",
            "_model_module_version": "1.5.0",
            "_model_name": "DescriptionStyleModel",
            "_view_count": null,
            "_view_module": "@jupyter-widgets/base",
            "_view_module_version": "1.2.0",
            "_view_name": "StyleView",
            "description_width": ""
          }
        },
        "f71c8bf0bf0140338833944eb69bf7de": {
          "model_module": "@jupyter-widgets/base",
          "model_name": "LayoutModel",
          "model_module_version": "1.2.0",
          "state": {
            "_model_module": "@jupyter-widgets/base",
            "_model_module_version": "1.2.0",
            "_model_name": "LayoutModel",
            "_view_count": null,
            "_view_module": "@jupyter-widgets/base",
            "_view_module_version": "1.2.0",
            "_view_name": "LayoutView",
            "align_content": null,
            "align_items": null,
            "align_self": null,
            "border": null,
            "bottom": null,
            "display": null,
            "flex": null,
            "flex_flow": null,
            "grid_area": null,
            "grid_auto_columns": null,
            "grid_auto_flow": null,
            "grid_auto_rows": null,
            "grid_column": null,
            "grid_gap": null,
            "grid_row": null,
            "grid_template_areas": null,
            "grid_template_columns": null,
            "grid_template_rows": null,
            "height": null,
            "justify_content": null,
            "justify_items": null,
            "left": null,
            "margin": null,
            "max_height": null,
            "max_width": null,
            "min_height": null,
            "min_width": null,
            "object_fit": null,
            "object_position": null,
            "order": null,
            "overflow": null,
            "overflow_x": null,
            "overflow_y": null,
            "padding": null,
            "right": null,
            "top": null,
            "visibility": null,
            "width": "20px"
          }
        },
        "124c3a8c53b241a7ba380becff6adb3d": {
          "model_module": "@jupyter-widgets/controls",
          "model_name": "ProgressStyleModel",
          "model_module_version": "1.5.0",
          "state": {
            "_model_module": "@jupyter-widgets/controls",
            "_model_module_version": "1.5.0",
            "_model_name": "ProgressStyleModel",
            "_view_count": null,
            "_view_module": "@jupyter-widgets/base",
            "_view_module_version": "1.2.0",
            "_view_name": "StyleView",
            "bar_color": null,
            "description_width": ""
          }
        },
        "0caa30e348114875b4965b523a3c648b": {
          "model_module": "@jupyter-widgets/base",
          "model_name": "LayoutModel",
          "model_module_version": "1.2.0",
          "state": {
            "_model_module": "@jupyter-widgets/base",
            "_model_module_version": "1.2.0",
            "_model_name": "LayoutModel",
            "_view_count": null,
            "_view_module": "@jupyter-widgets/base",
            "_view_module_version": "1.2.0",
            "_view_name": "LayoutView",
            "align_content": null,
            "align_items": null,
            "align_self": null,
            "border": null,
            "bottom": null,
            "display": null,
            "flex": null,
            "flex_flow": null,
            "grid_area": null,
            "grid_auto_columns": null,
            "grid_auto_flow": null,
            "grid_auto_rows": null,
            "grid_column": null,
            "grid_gap": null,
            "grid_row": null,
            "grid_template_areas": null,
            "grid_template_columns": null,
            "grid_template_rows": null,
            "height": null,
            "justify_content": null,
            "justify_items": null,
            "left": null,
            "margin": null,
            "max_height": null,
            "max_width": null,
            "min_height": null,
            "min_width": null,
            "object_fit": null,
            "object_position": null,
            "order": null,
            "overflow": null,
            "overflow_x": null,
            "overflow_y": null,
            "padding": null,
            "right": null,
            "top": null,
            "visibility": null,
            "width": null
          }
        },
        "6309398ede994ec7945b36c0624529b6": {
          "model_module": "@jupyter-widgets/controls",
          "model_name": "DescriptionStyleModel",
          "model_module_version": "1.5.0",
          "state": {
            "_model_module": "@jupyter-widgets/controls",
            "_model_module_version": "1.5.0",
            "_model_name": "DescriptionStyleModel",
            "_view_count": null,
            "_view_module": "@jupyter-widgets/base",
            "_view_module_version": "1.2.0",
            "_view_name": "StyleView",
            "description_width": ""
          }
        },
        "612178aef5db435daf62d0b1482ae50d": {
          "model_module": "@jupyter-widgets/controls",
          "model_name": "HBoxModel",
          "model_module_version": "1.5.0",
          "state": {
            "_dom_classes": [],
            "_model_module": "@jupyter-widgets/controls",
            "_model_module_version": "1.5.0",
            "_model_name": "HBoxModel",
            "_view_count": null,
            "_view_module": "@jupyter-widgets/controls",
            "_view_module_version": "1.5.0",
            "_view_name": "HBoxView",
            "box_style": "",
            "children": [
              "IPY_MODEL_ed49bb2753004e0891fd7d8b0749ccda",
              "IPY_MODEL_60d846ec050d4d5dbd04fc1c6a1365dd",
              "IPY_MODEL_6f1becfa9d504f1a91af6799cd1b8ec5"
            ],
            "layout": "IPY_MODEL_a219269ab9bc4dde87e3c9b1bbbc21ae"
          }
        },
        "ed49bb2753004e0891fd7d8b0749ccda": {
          "model_module": "@jupyter-widgets/controls",
          "model_name": "HTMLModel",
          "model_module_version": "1.5.0",
          "state": {
            "_dom_classes": [],
            "_model_module": "@jupyter-widgets/controls",
            "_model_module_version": "1.5.0",
            "_model_name": "HTMLModel",
            "_view_count": null,
            "_view_module": "@jupyter-widgets/controls",
            "_view_module_version": "1.5.0",
            "_view_name": "HTMLView",
            "description": "",
            "description_tooltip": null,
            "layout": "IPY_MODEL_12548d9e2d4044afa779a878d6fad0d4",
            "placeholder": "​",
            "style": "IPY_MODEL_6395228cc84a484a8f185784f05f8c4c",
            "value": "Dl Size...: 100%"
          }
        },
        "60d846ec050d4d5dbd04fc1c6a1365dd": {
          "model_module": "@jupyter-widgets/controls",
          "model_name": "FloatProgressModel",
          "model_module_version": "1.5.0",
          "state": {
            "_dom_classes": [],
            "_model_module": "@jupyter-widgets/controls",
            "_model_module_version": "1.5.0",
            "_model_name": "FloatProgressModel",
            "_view_count": null,
            "_view_module": "@jupyter-widgets/controls",
            "_view_module_version": "1.5.0",
            "_view_name": "ProgressView",
            "bar_style": "success",
            "description": "",
            "description_tooltip": null,
            "layout": "IPY_MODEL_570162d562ee41eaa3760ea794b8f7b5",
            "max": 1,
            "min": 0,
            "orientation": "horizontal",
            "style": "IPY_MODEL_09c45d67e84b47ca8ead8e1bbdfedeeb",
            "value": 1
          }
        },
        "6f1becfa9d504f1a91af6799cd1b8ec5": {
          "model_module": "@jupyter-widgets/controls",
          "model_name": "HTMLModel",
          "model_module_version": "1.5.0",
          "state": {
            "_dom_classes": [],
            "_model_module": "@jupyter-widgets/controls",
            "_model_module_version": "1.5.0",
            "_model_name": "HTMLModel",
            "_view_count": null,
            "_view_module": "@jupyter-widgets/controls",
            "_view_module_version": "1.5.0",
            "_view_name": "HTMLView",
            "description": "",
            "description_tooltip": null,
            "layout": "IPY_MODEL_4b76664f3b1b4f84ad1a911c8b81dcef",
            "placeholder": "​",
            "style": "IPY_MODEL_cc6c3fdea1544f9fb44505cc878491e7",
            "value": " 246/246 [00:23&lt;00:00, 17.78 MiB/s]"
          }
        },
        "a219269ab9bc4dde87e3c9b1bbbc21ae": {
          "model_module": "@jupyter-widgets/base",
          "model_name": "LayoutModel",
          "model_module_version": "1.2.0",
          "state": {
            "_model_module": "@jupyter-widgets/base",
            "_model_module_version": "1.2.0",
            "_model_name": "LayoutModel",
            "_view_count": null,
            "_view_module": "@jupyter-widgets/base",
            "_view_module_version": "1.2.0",
            "_view_name": "LayoutView",
            "align_content": null,
            "align_items": null,
            "align_self": null,
            "border": null,
            "bottom": null,
            "display": null,
            "flex": null,
            "flex_flow": null,
            "grid_area": null,
            "grid_auto_columns": null,
            "grid_auto_flow": null,
            "grid_auto_rows": null,
            "grid_column": null,
            "grid_gap": null,
            "grid_row": null,
            "grid_template_areas": null,
            "grid_template_columns": null,
            "grid_template_rows": null,
            "height": null,
            "justify_content": null,
            "justify_items": null,
            "left": null,
            "margin": null,
            "max_height": null,
            "max_width": null,
            "min_height": null,
            "min_width": null,
            "object_fit": null,
            "object_position": null,
            "order": null,
            "overflow": null,
            "overflow_x": null,
            "overflow_y": null,
            "padding": null,
            "right": null,
            "top": null,
            "visibility": null,
            "width": null
          }
        },
        "12548d9e2d4044afa779a878d6fad0d4": {
          "model_module": "@jupyter-widgets/base",
          "model_name": "LayoutModel",
          "model_module_version": "1.2.0",
          "state": {
            "_model_module": "@jupyter-widgets/base",
            "_model_module_version": "1.2.0",
            "_model_name": "LayoutModel",
            "_view_count": null,
            "_view_module": "@jupyter-widgets/base",
            "_view_module_version": "1.2.0",
            "_view_name": "LayoutView",
            "align_content": null,
            "align_items": null,
            "align_self": null,
            "border": null,
            "bottom": null,
            "display": null,
            "flex": null,
            "flex_flow": null,
            "grid_area": null,
            "grid_auto_columns": null,
            "grid_auto_flow": null,
            "grid_auto_rows": null,
            "grid_column": null,
            "grid_gap": null,
            "grid_row": null,
            "grid_template_areas": null,
            "grid_template_columns": null,
            "grid_template_rows": null,
            "height": null,
            "justify_content": null,
            "justify_items": null,
            "left": null,
            "margin": null,
            "max_height": null,
            "max_width": null,
            "min_height": null,
            "min_width": null,
            "object_fit": null,
            "object_position": null,
            "order": null,
            "overflow": null,
            "overflow_x": null,
            "overflow_y": null,
            "padding": null,
            "right": null,
            "top": null,
            "visibility": null,
            "width": null
          }
        },
        "6395228cc84a484a8f185784f05f8c4c": {
          "model_module": "@jupyter-widgets/controls",
          "model_name": "DescriptionStyleModel",
          "model_module_version": "1.5.0",
          "state": {
            "_model_module": "@jupyter-widgets/controls",
            "_model_module_version": "1.5.0",
            "_model_name": "DescriptionStyleModel",
            "_view_count": null,
            "_view_module": "@jupyter-widgets/base",
            "_view_module_version": "1.2.0",
            "_view_name": "StyleView",
            "description_width": ""
          }
        },
        "570162d562ee41eaa3760ea794b8f7b5": {
          "model_module": "@jupyter-widgets/base",
          "model_name": "LayoutModel",
          "model_module_version": "1.2.0",
          "state": {
            "_model_module": "@jupyter-widgets/base",
            "_model_module_version": "1.2.0",
            "_model_name": "LayoutModel",
            "_view_count": null,
            "_view_module": "@jupyter-widgets/base",
            "_view_module_version": "1.2.0",
            "_view_name": "LayoutView",
            "align_content": null,
            "align_items": null,
            "align_self": null,
            "border": null,
            "bottom": null,
            "display": null,
            "flex": null,
            "flex_flow": null,
            "grid_area": null,
            "grid_auto_columns": null,
            "grid_auto_flow": null,
            "grid_auto_rows": null,
            "grid_column": null,
            "grid_gap": null,
            "grid_row": null,
            "grid_template_areas": null,
            "grid_template_columns": null,
            "grid_template_rows": null,
            "height": null,
            "justify_content": null,
            "justify_items": null,
            "left": null,
            "margin": null,
            "max_height": null,
            "max_width": null,
            "min_height": null,
            "min_width": null,
            "object_fit": null,
            "object_position": null,
            "order": null,
            "overflow": null,
            "overflow_x": null,
            "overflow_y": null,
            "padding": null,
            "right": null,
            "top": null,
            "visibility": null,
            "width": "20px"
          }
        },
        "09c45d67e84b47ca8ead8e1bbdfedeeb": {
          "model_module": "@jupyter-widgets/controls",
          "model_name": "ProgressStyleModel",
          "model_module_version": "1.5.0",
          "state": {
            "_model_module": "@jupyter-widgets/controls",
            "_model_module_version": "1.5.0",
            "_model_name": "ProgressStyleModel",
            "_view_count": null,
            "_view_module": "@jupyter-widgets/base",
            "_view_module_version": "1.2.0",
            "_view_name": "StyleView",
            "bar_color": null,
            "description_width": ""
          }
        },
        "4b76664f3b1b4f84ad1a911c8b81dcef": {
          "model_module": "@jupyter-widgets/base",
          "model_name": "LayoutModel",
          "model_module_version": "1.2.0",
          "state": {
            "_model_module": "@jupyter-widgets/base",
            "_model_module_version": "1.2.0",
            "_model_name": "LayoutModel",
            "_view_count": null,
            "_view_module": "@jupyter-widgets/base",
            "_view_module_version": "1.2.0",
            "_view_name": "LayoutView",
            "align_content": null,
            "align_items": null,
            "align_self": null,
            "border": null,
            "bottom": null,
            "display": null,
            "flex": null,
            "flex_flow": null,
            "grid_area": null,
            "grid_auto_columns": null,
            "grid_auto_flow": null,
            "grid_auto_rows": null,
            "grid_column": null,
            "grid_gap": null,
            "grid_row": null,
            "grid_template_areas": null,
            "grid_template_columns": null,
            "grid_template_rows": null,
            "height": null,
            "justify_content": null,
            "justify_items": null,
            "left": null,
            "margin": null,
            "max_height": null,
            "max_width": null,
            "min_height": null,
            "min_width": null,
            "object_fit": null,
            "object_position": null,
            "order": null,
            "overflow": null,
            "overflow_x": null,
            "overflow_y": null,
            "padding": null,
            "right": null,
            "top": null,
            "visibility": null,
            "width": null
          }
        },
        "cc6c3fdea1544f9fb44505cc878491e7": {
          "model_module": "@jupyter-widgets/controls",
          "model_name": "DescriptionStyleModel",
          "model_module_version": "1.5.0",
          "state": {
            "_model_module": "@jupyter-widgets/controls",
            "_model_module_version": "1.5.0",
            "_model_name": "DescriptionStyleModel",
            "_view_count": null,
            "_view_module": "@jupyter-widgets/base",
            "_view_module_version": "1.2.0",
            "_view_name": "StyleView",
            "description_width": ""
          }
        },
        "bd3a6e2792ec49f39f832f3991ac55ee": {
          "model_module": "@jupyter-widgets/controls",
          "model_name": "HBoxModel",
          "model_module_version": "1.5.0",
          "state": {
            "_dom_classes": [],
            "_model_module": "@jupyter-widgets/controls",
            "_model_module_version": "1.5.0",
            "_model_name": "HBoxModel",
            "_view_count": null,
            "_view_module": "@jupyter-widgets/controls",
            "_view_module_version": "1.5.0",
            "_view_name": "HBoxView",
            "box_style": "",
            "children": [
              "IPY_MODEL_abb9cb2a080d42258477b8c9e0076b2b",
              "IPY_MODEL_e9ea0bbf65a5430e96e69bbbdc660a25",
              "IPY_MODEL_fc424e9773e8437da51f54e73d9606a2"
            ],
            "layout": "IPY_MODEL_31736528142e4663a11343d60ddb9047"
          }
        },
        "abb9cb2a080d42258477b8c9e0076b2b": {
          "model_module": "@jupyter-widgets/controls",
          "model_name": "HTMLModel",
          "model_module_version": "1.5.0",
          "state": {
            "_dom_classes": [],
            "_model_module": "@jupyter-widgets/controls",
            "_model_module_version": "1.5.0",
            "_model_name": "HTMLModel",
            "_view_count": null,
            "_view_module": "@jupyter-widgets/controls",
            "_view_module_version": "1.5.0",
            "_view_name": "HTMLView",
            "description": "",
            "description_tooltip": null,
            "layout": "IPY_MODEL_930b82756877453596b5745286fd38e8",
            "placeholder": "​",
            "style": "IPY_MODEL_b0a8bf7d79514e1ca8024761caf694f1",
            "value": "Extraction completed...: 100%"
          }
        },
        "e9ea0bbf65a5430e96e69bbbdc660a25": {
          "model_module": "@jupyter-widgets/controls",
          "model_name": "FloatProgressModel",
          "model_module_version": "1.5.0",
          "state": {
            "_dom_classes": [],
            "_model_module": "@jupyter-widgets/controls",
            "_model_module_version": "1.5.0",
            "_model_name": "FloatProgressModel",
            "_view_count": null,
            "_view_module": "@jupyter-widgets/controls",
            "_view_module_version": "1.5.0",
            "_view_name": "ProgressView",
            "bar_style": "success",
            "description": "",
            "description_tooltip": null,
            "layout": "IPY_MODEL_002e6c8d64ee42c7bc54e99bea3f670c",
            "max": 1,
            "min": 0,
            "orientation": "horizontal",
            "style": "IPY_MODEL_494784011f1f472fb8833e85ebdde43f",
            "value": 1
          }
        },
        "fc424e9773e8437da51f54e73d9606a2": {
          "model_module": "@jupyter-widgets/controls",
          "model_name": "HTMLModel",
          "model_module_version": "1.5.0",
          "state": {
            "_dom_classes": [],
            "_model_module": "@jupyter-widgets/controls",
            "_model_module_version": "1.5.0",
            "_model_name": "HTMLModel",
            "_view_count": null,
            "_view_module": "@jupyter-widgets/controls",
            "_view_module_version": "1.5.0",
            "_view_name": "HTMLView",
            "description": "",
            "description_tooltip": null,
            "layout": "IPY_MODEL_4a2c850cedcc48aeaa38987b5892cf51",
            "placeholder": "​",
            "style": "IPY_MODEL_82d863d891d44ab6b45701bd62730063",
            "value": " 1/1 [00:23&lt;00:00, 23.73s/ file]"
          }
        },
        "31736528142e4663a11343d60ddb9047": {
          "model_module": "@jupyter-widgets/base",
          "model_name": "LayoutModel",
          "model_module_version": "1.2.0",
          "state": {
            "_model_module": "@jupyter-widgets/base",
            "_model_module_version": "1.2.0",
            "_model_name": "LayoutModel",
            "_view_count": null,
            "_view_module": "@jupyter-widgets/base",
            "_view_module_version": "1.2.0",
            "_view_name": "LayoutView",
            "align_content": null,
            "align_items": null,
            "align_self": null,
            "border": null,
            "bottom": null,
            "display": null,
            "flex": null,
            "flex_flow": null,
            "grid_area": null,
            "grid_auto_columns": null,
            "grid_auto_flow": null,
            "grid_auto_rows": null,
            "grid_column": null,
            "grid_gap": null,
            "grid_row": null,
            "grid_template_areas": null,
            "grid_template_columns": null,
            "grid_template_rows": null,
            "height": null,
            "justify_content": null,
            "justify_items": null,
            "left": null,
            "margin": null,
            "max_height": null,
            "max_width": null,
            "min_height": null,
            "min_width": null,
            "object_fit": null,
            "object_position": null,
            "order": null,
            "overflow": null,
            "overflow_x": null,
            "overflow_y": null,
            "padding": null,
            "right": null,
            "top": null,
            "visibility": null,
            "width": null
          }
        },
        "930b82756877453596b5745286fd38e8": {
          "model_module": "@jupyter-widgets/base",
          "model_name": "LayoutModel",
          "model_module_version": "1.2.0",
          "state": {
            "_model_module": "@jupyter-widgets/base",
            "_model_module_version": "1.2.0",
            "_model_name": "LayoutModel",
            "_view_count": null,
            "_view_module": "@jupyter-widgets/base",
            "_view_module_version": "1.2.0",
            "_view_name": "LayoutView",
            "align_content": null,
            "align_items": null,
            "align_self": null,
            "border": null,
            "bottom": null,
            "display": null,
            "flex": null,
            "flex_flow": null,
            "grid_area": null,
            "grid_auto_columns": null,
            "grid_auto_flow": null,
            "grid_auto_rows": null,
            "grid_column": null,
            "grid_gap": null,
            "grid_row": null,
            "grid_template_areas": null,
            "grid_template_columns": null,
            "grid_template_rows": null,
            "height": null,
            "justify_content": null,
            "justify_items": null,
            "left": null,
            "margin": null,
            "max_height": null,
            "max_width": null,
            "min_height": null,
            "min_width": null,
            "object_fit": null,
            "object_position": null,
            "order": null,
            "overflow": null,
            "overflow_x": null,
            "overflow_y": null,
            "padding": null,
            "right": null,
            "top": null,
            "visibility": null,
            "width": null
          }
        },
        "b0a8bf7d79514e1ca8024761caf694f1": {
          "model_module": "@jupyter-widgets/controls",
          "model_name": "DescriptionStyleModel",
          "model_module_version": "1.5.0",
          "state": {
            "_model_module": "@jupyter-widgets/controls",
            "_model_module_version": "1.5.0",
            "_model_name": "DescriptionStyleModel",
            "_view_count": null,
            "_view_module": "@jupyter-widgets/base",
            "_view_module_version": "1.2.0",
            "_view_name": "StyleView",
            "description_width": ""
          }
        },
        "002e6c8d64ee42c7bc54e99bea3f670c": {
          "model_module": "@jupyter-widgets/base",
          "model_name": "LayoutModel",
          "model_module_version": "1.2.0",
          "state": {
            "_model_module": "@jupyter-widgets/base",
            "_model_module_version": "1.2.0",
            "_model_name": "LayoutModel",
            "_view_count": null,
            "_view_module": "@jupyter-widgets/base",
            "_view_module_version": "1.2.0",
            "_view_name": "LayoutView",
            "align_content": null,
            "align_items": null,
            "align_self": null,
            "border": null,
            "bottom": null,
            "display": null,
            "flex": null,
            "flex_flow": null,
            "grid_area": null,
            "grid_auto_columns": null,
            "grid_auto_flow": null,
            "grid_auto_rows": null,
            "grid_column": null,
            "grid_gap": null,
            "grid_row": null,
            "grid_template_areas": null,
            "grid_template_columns": null,
            "grid_template_rows": null,
            "height": null,
            "justify_content": null,
            "justify_items": null,
            "left": null,
            "margin": null,
            "max_height": null,
            "max_width": null,
            "min_height": null,
            "min_width": null,
            "object_fit": null,
            "object_position": null,
            "order": null,
            "overflow": null,
            "overflow_x": null,
            "overflow_y": null,
            "padding": null,
            "right": null,
            "top": null,
            "visibility": null,
            "width": "20px"
          }
        },
        "494784011f1f472fb8833e85ebdde43f": {
          "model_module": "@jupyter-widgets/controls",
          "model_name": "ProgressStyleModel",
          "model_module_version": "1.5.0",
          "state": {
            "_model_module": "@jupyter-widgets/controls",
            "_model_module_version": "1.5.0",
            "_model_name": "ProgressStyleModel",
            "_view_count": null,
            "_view_module": "@jupyter-widgets/base",
            "_view_module_version": "1.2.0",
            "_view_name": "StyleView",
            "bar_color": null,
            "description_width": ""
          }
        },
        "4a2c850cedcc48aeaa38987b5892cf51": {
          "model_module": "@jupyter-widgets/base",
          "model_name": "LayoutModel",
          "model_module_version": "1.2.0",
          "state": {
            "_model_module": "@jupyter-widgets/base",
            "_model_module_version": "1.2.0",
            "_model_name": "LayoutModel",
            "_view_count": null,
            "_view_module": "@jupyter-widgets/base",
            "_view_module_version": "1.2.0",
            "_view_name": "LayoutView",
            "align_content": null,
            "align_items": null,
            "align_self": null,
            "border": null,
            "bottom": null,
            "display": null,
            "flex": null,
            "flex_flow": null,
            "grid_area": null,
            "grid_auto_columns": null,
            "grid_auto_flow": null,
            "grid_auto_rows": null,
            "grid_column": null,
            "grid_gap": null,
            "grid_row": null,
            "grid_template_areas": null,
            "grid_template_columns": null,
            "grid_template_rows": null,
            "height": null,
            "justify_content": null,
            "justify_items": null,
            "left": null,
            "margin": null,
            "max_height": null,
            "max_width": null,
            "min_height": null,
            "min_width": null,
            "object_fit": null,
            "object_position": null,
            "order": null,
            "overflow": null,
            "overflow_x": null,
            "overflow_y": null,
            "padding": null,
            "right": null,
            "top": null,
            "visibility": null,
            "width": null
          }
        },
        "82d863d891d44ab6b45701bd62730063": {
          "model_module": "@jupyter-widgets/controls",
          "model_name": "DescriptionStyleModel",
          "model_module_version": "1.5.0",
          "state": {
            "_model_module": "@jupyter-widgets/controls",
            "_model_module_version": "1.5.0",
            "_model_name": "DescriptionStyleModel",
            "_view_count": null,
            "_view_module": "@jupyter-widgets/base",
            "_view_module_version": "1.2.0",
            "_view_name": "StyleView",
            "description_width": ""
          }
        },
        "561c291510144dcea86fb0a37d821cdc": {
          "model_module": "@jupyter-widgets/controls",
          "model_name": "HBoxModel",
          "model_module_version": "1.5.0",
          "state": {
            "_dom_classes": [],
            "_model_module": "@jupyter-widgets/controls",
            "_model_module_version": "1.5.0",
            "_model_name": "HBoxModel",
            "_view_count": null,
            "_view_module": "@jupyter-widgets/controls",
            "_view_module_version": "1.5.0",
            "_view_name": "HBoxView",
            "box_style": "",
            "children": [
              "IPY_MODEL_06ca23221afe460b8a1e1573a9ba0bfc",
              "IPY_MODEL_ecff013325e943e48be3da6a3c5f71dd",
              "IPY_MODEL_a4d3b208b28b4a15a2c162924de3f7b2"
            ],
            "layout": "IPY_MODEL_168a9a411aa44742b5e2813f057280ca"
          }
        },
        "06ca23221afe460b8a1e1573a9ba0bfc": {
          "model_module": "@jupyter-widgets/controls",
          "model_name": "HTMLModel",
          "model_module_version": "1.5.0",
          "state": {
            "_dom_classes": [],
            "_model_module": "@jupyter-widgets/controls",
            "_model_module_version": "1.5.0",
            "_model_name": "HTMLModel",
            "_view_count": null,
            "_view_module": "@jupyter-widgets/controls",
            "_view_module_version": "1.5.0",
            "_view_name": "HTMLView",
            "description": "",
            "description_tooltip": null,
            "layout": "IPY_MODEL_609f67e874ac491ebcfe26358ec729d0",
            "placeholder": "​",
            "style": "IPY_MODEL_30a34373895143648c88135283b55dbd",
            "value": "Generating splits...: 100%"
          }
        },
        "ecff013325e943e48be3da6a3c5f71dd": {
          "model_module": "@jupyter-widgets/controls",
          "model_name": "FloatProgressModel",
          "model_module_version": "1.5.0",
          "state": {
            "_dom_classes": [],
            "_model_module": "@jupyter-widgets/controls",
            "_model_module_version": "1.5.0",
            "_model_name": "FloatProgressModel",
            "_view_count": null,
            "_view_module": "@jupyter-widgets/controls",
            "_view_module_version": "1.5.0",
            "_view_name": "ProgressView",
            "bar_style": "",
            "description": "",
            "description_tooltip": null,
            "layout": "IPY_MODEL_12da341a7df14196b7e8e34e33c85207",
            "max": 1,
            "min": 0,
            "orientation": "horizontal",
            "style": "IPY_MODEL_d65bd5c5c0764542a251a64ae3b5b038",
            "value": 1
          }
        },
        "a4d3b208b28b4a15a2c162924de3f7b2": {
          "model_module": "@jupyter-widgets/controls",
          "model_name": "HTMLModel",
          "model_module_version": "1.5.0",
          "state": {
            "_dom_classes": [],
            "_model_module": "@jupyter-widgets/controls",
            "_model_module_version": "1.5.0",
            "_model_name": "HTMLModel",
            "_view_count": null,
            "_view_module": "@jupyter-widgets/controls",
            "_view_module_version": "1.5.0",
            "_view_name": "HTMLView",
            "description": "",
            "description_tooltip": null,
            "layout": "IPY_MODEL_f9c15fddc06e4fde90bb444c885fe78d",
            "placeholder": "​",
            "style": "IPY_MODEL_ef347c965330430ca03510abad21df68",
            "value": " 1/1 [00:43&lt;00:00, 43.07s/ splits]"
          }
        },
        "168a9a411aa44742b5e2813f057280ca": {
          "model_module": "@jupyter-widgets/base",
          "model_name": "LayoutModel",
          "model_module_version": "1.2.0",
          "state": {
            "_model_module": "@jupyter-widgets/base",
            "_model_module_version": "1.2.0",
            "_model_name": "LayoutModel",
            "_view_count": null,
            "_view_module": "@jupyter-widgets/base",
            "_view_module_version": "1.2.0",
            "_view_name": "LayoutView",
            "align_content": null,
            "align_items": null,
            "align_self": null,
            "border": null,
            "bottom": null,
            "display": null,
            "flex": null,
            "flex_flow": null,
            "grid_area": null,
            "grid_auto_columns": null,
            "grid_auto_flow": null,
            "grid_auto_rows": null,
            "grid_column": null,
            "grid_gap": null,
            "grid_row": null,
            "grid_template_areas": null,
            "grid_template_columns": null,
            "grid_template_rows": null,
            "height": null,
            "justify_content": null,
            "justify_items": null,
            "left": null,
            "margin": null,
            "max_height": null,
            "max_width": null,
            "min_height": null,
            "min_width": null,
            "object_fit": null,
            "object_position": null,
            "order": null,
            "overflow": null,
            "overflow_x": null,
            "overflow_y": null,
            "padding": null,
            "right": null,
            "top": null,
            "visibility": "hidden",
            "width": null
          }
        },
        "609f67e874ac491ebcfe26358ec729d0": {
          "model_module": "@jupyter-widgets/base",
          "model_name": "LayoutModel",
          "model_module_version": "1.2.0",
          "state": {
            "_model_module": "@jupyter-widgets/base",
            "_model_module_version": "1.2.0",
            "_model_name": "LayoutModel",
            "_view_count": null,
            "_view_module": "@jupyter-widgets/base",
            "_view_module_version": "1.2.0",
            "_view_name": "LayoutView",
            "align_content": null,
            "align_items": null,
            "align_self": null,
            "border": null,
            "bottom": null,
            "display": null,
            "flex": null,
            "flex_flow": null,
            "grid_area": null,
            "grid_auto_columns": null,
            "grid_auto_flow": null,
            "grid_auto_rows": null,
            "grid_column": null,
            "grid_gap": null,
            "grid_row": null,
            "grid_template_areas": null,
            "grid_template_columns": null,
            "grid_template_rows": null,
            "height": null,
            "justify_content": null,
            "justify_items": null,
            "left": null,
            "margin": null,
            "max_height": null,
            "max_width": null,
            "min_height": null,
            "min_width": null,
            "object_fit": null,
            "object_position": null,
            "order": null,
            "overflow": null,
            "overflow_x": null,
            "overflow_y": null,
            "padding": null,
            "right": null,
            "top": null,
            "visibility": null,
            "width": null
          }
        },
        "30a34373895143648c88135283b55dbd": {
          "model_module": "@jupyter-widgets/controls",
          "model_name": "DescriptionStyleModel",
          "model_module_version": "1.5.0",
          "state": {
            "_model_module": "@jupyter-widgets/controls",
            "_model_module_version": "1.5.0",
            "_model_name": "DescriptionStyleModel",
            "_view_count": null,
            "_view_module": "@jupyter-widgets/base",
            "_view_module_version": "1.2.0",
            "_view_name": "StyleView",
            "description_width": ""
          }
        },
        "12da341a7df14196b7e8e34e33c85207": {
          "model_module": "@jupyter-widgets/base",
          "model_name": "LayoutModel",
          "model_module_version": "1.2.0",
          "state": {
            "_model_module": "@jupyter-widgets/base",
            "_model_module_version": "1.2.0",
            "_model_name": "LayoutModel",
            "_view_count": null,
            "_view_module": "@jupyter-widgets/base",
            "_view_module_version": "1.2.0",
            "_view_name": "LayoutView",
            "align_content": null,
            "align_items": null,
            "align_self": null,
            "border": null,
            "bottom": null,
            "display": null,
            "flex": null,
            "flex_flow": null,
            "grid_area": null,
            "grid_auto_columns": null,
            "grid_auto_flow": null,
            "grid_auto_rows": null,
            "grid_column": null,
            "grid_gap": null,
            "grid_row": null,
            "grid_template_areas": null,
            "grid_template_columns": null,
            "grid_template_rows": null,
            "height": null,
            "justify_content": null,
            "justify_items": null,
            "left": null,
            "margin": null,
            "max_height": null,
            "max_width": null,
            "min_height": null,
            "min_width": null,
            "object_fit": null,
            "object_position": null,
            "order": null,
            "overflow": null,
            "overflow_x": null,
            "overflow_y": null,
            "padding": null,
            "right": null,
            "top": null,
            "visibility": null,
            "width": null
          }
        },
        "d65bd5c5c0764542a251a64ae3b5b038": {
          "model_module": "@jupyter-widgets/controls",
          "model_name": "ProgressStyleModel",
          "model_module_version": "1.5.0",
          "state": {
            "_model_module": "@jupyter-widgets/controls",
            "_model_module_version": "1.5.0",
            "_model_name": "ProgressStyleModel",
            "_view_count": null,
            "_view_module": "@jupyter-widgets/base",
            "_view_module_version": "1.2.0",
            "_view_name": "StyleView",
            "bar_color": null,
            "description_width": ""
          }
        },
        "f9c15fddc06e4fde90bb444c885fe78d": {
          "model_module": "@jupyter-widgets/base",
          "model_name": "LayoutModel",
          "model_module_version": "1.2.0",
          "state": {
            "_model_module": "@jupyter-widgets/base",
            "_model_module_version": "1.2.0",
            "_model_name": "LayoutModel",
            "_view_count": null,
            "_view_module": "@jupyter-widgets/base",
            "_view_module_version": "1.2.0",
            "_view_name": "LayoutView",
            "align_content": null,
            "align_items": null,
            "align_self": null,
            "border": null,
            "bottom": null,
            "display": null,
            "flex": null,
            "flex_flow": null,
            "grid_area": null,
            "grid_auto_columns": null,
            "grid_auto_flow": null,
            "grid_auto_rows": null,
            "grid_column": null,
            "grid_gap": null,
            "grid_row": null,
            "grid_template_areas": null,
            "grid_template_columns": null,
            "grid_template_rows": null,
            "height": null,
            "justify_content": null,
            "justify_items": null,
            "left": null,
            "margin": null,
            "max_height": null,
            "max_width": null,
            "min_height": null,
            "min_width": null,
            "object_fit": null,
            "object_position": null,
            "order": null,
            "overflow": null,
            "overflow_x": null,
            "overflow_y": null,
            "padding": null,
            "right": null,
            "top": null,
            "visibility": null,
            "width": null
          }
        },
        "ef347c965330430ca03510abad21df68": {
          "model_module": "@jupyter-widgets/controls",
          "model_name": "DescriptionStyleModel",
          "model_module_version": "1.5.0",
          "state": {
            "_model_module": "@jupyter-widgets/controls",
            "_model_module_version": "1.5.0",
            "_model_name": "DescriptionStyleModel",
            "_view_count": null,
            "_view_module": "@jupyter-widgets/base",
            "_view_module_version": "1.2.0",
            "_view_name": "StyleView",
            "description_width": ""
          }
        },
        "ecd6efc0c1124c5ba78709c8b61a1551": {
          "model_module": "@jupyter-widgets/controls",
          "model_name": "HBoxModel",
          "model_module_version": "1.5.0",
          "state": {
            "_dom_classes": [],
            "_model_module": "@jupyter-widgets/controls",
            "_model_module_version": "1.5.0",
            "_model_name": "HBoxModel",
            "_view_count": null,
            "_view_module": "@jupyter-widgets/controls",
            "_view_module_version": "1.5.0",
            "_view_name": "HBoxView",
            "box_style": "",
            "children": [
              "IPY_MODEL_40cecfd8a571494ba70a0b11a9cc8233",
              "IPY_MODEL_2906d4127c7f466c84727995c3b78f81",
              "IPY_MODEL_0f7e575fc444428f86fa0728fa8dcb90"
            ],
            "layout": "IPY_MODEL_bbe4796c5b7e4cb191b1a649251fed0e"
          }
        },
        "40cecfd8a571494ba70a0b11a9cc8233": {
          "model_module": "@jupyter-widgets/controls",
          "model_name": "HTMLModel",
          "model_module_version": "1.5.0",
          "state": {
            "_dom_classes": [],
            "_model_module": "@jupyter-widgets/controls",
            "_model_module_version": "1.5.0",
            "_model_name": "HTMLModel",
            "_view_count": null,
            "_view_module": "@jupyter-widgets/controls",
            "_view_module_version": "1.5.0",
            "_view_name": "HTMLView",
            "description": "",
            "description_tooltip": null,
            "layout": "IPY_MODEL_cb342a77a039434b90b2c0e98aa88dad",
            "placeholder": "​",
            "style": "IPY_MODEL_37cbc2d11cd046e290182595f4f2040f",
            "value": "Generating train examples...: 100%"
          }
        },
        "2906d4127c7f466c84727995c3b78f81": {
          "model_module": "@jupyter-widgets/controls",
          "model_name": "FloatProgressModel",
          "model_module_version": "1.5.0",
          "state": {
            "_dom_classes": [],
            "_model_module": "@jupyter-widgets/controls",
            "_model_module_version": "1.5.0",
            "_model_name": "FloatProgressModel",
            "_view_count": null,
            "_view_module": "@jupyter-widgets/controls",
            "_view_module_version": "1.5.0",
            "_view_name": "ProgressView",
            "bar_style": "",
            "description": "",
            "description_tooltip": null,
            "layout": "IPY_MODEL_fc987ad22e554beb876149d28986cef4",
            "max": 5000,
            "min": 0,
            "orientation": "horizontal",
            "style": "IPY_MODEL_783182f965a74a6da9db5d3ca1c1f337",
            "value": 5000
          }
        },
        "0f7e575fc444428f86fa0728fa8dcb90": {
          "model_module": "@jupyter-widgets/controls",
          "model_name": "HTMLModel",
          "model_module_version": "1.5.0",
          "state": {
            "_dom_classes": [],
            "_model_module": "@jupyter-widgets/controls",
            "_model_module_version": "1.5.0",
            "_model_name": "HTMLModel",
            "_view_count": null,
            "_view_module": "@jupyter-widgets/controls",
            "_view_module_version": "1.5.0",
            "_view_name": "HTMLView",
            "description": "",
            "description_tooltip": null,
            "layout": "IPY_MODEL_7529370e17514d07a780152bd4dce20d",
            "placeholder": "​",
            "style": "IPY_MODEL_e63c6a43ac864dceb482b85baf3f809c",
            "value": " 4986/5000 [00:42&lt;00:00, 150.34 examples/s]"
          }
        },
        "bbe4796c5b7e4cb191b1a649251fed0e": {
          "model_module": "@jupyter-widgets/base",
          "model_name": "LayoutModel",
          "model_module_version": "1.2.0",
          "state": {
            "_model_module": "@jupyter-widgets/base",
            "_model_module_version": "1.2.0",
            "_model_name": "LayoutModel",
            "_view_count": null,
            "_view_module": "@jupyter-widgets/base",
            "_view_module_version": "1.2.0",
            "_view_name": "LayoutView",
            "align_content": null,
            "align_items": null,
            "align_self": null,
            "border": null,
            "bottom": null,
            "display": null,
            "flex": null,
            "flex_flow": null,
            "grid_area": null,
            "grid_auto_columns": null,
            "grid_auto_flow": null,
            "grid_auto_rows": null,
            "grid_column": null,
            "grid_gap": null,
            "grid_row": null,
            "grid_template_areas": null,
            "grid_template_columns": null,
            "grid_template_rows": null,
            "height": null,
            "justify_content": null,
            "justify_items": null,
            "left": null,
            "margin": null,
            "max_height": null,
            "max_width": null,
            "min_height": null,
            "min_width": null,
            "object_fit": null,
            "object_position": null,
            "order": null,
            "overflow": null,
            "overflow_x": null,
            "overflow_y": null,
            "padding": null,
            "right": null,
            "top": null,
            "visibility": "hidden",
            "width": null
          }
        },
        "cb342a77a039434b90b2c0e98aa88dad": {
          "model_module": "@jupyter-widgets/base",
          "model_name": "LayoutModel",
          "model_module_version": "1.2.0",
          "state": {
            "_model_module": "@jupyter-widgets/base",
            "_model_module_version": "1.2.0",
            "_model_name": "LayoutModel",
            "_view_count": null,
            "_view_module": "@jupyter-widgets/base",
            "_view_module_version": "1.2.0",
            "_view_name": "LayoutView",
            "align_content": null,
            "align_items": null,
            "align_self": null,
            "border": null,
            "bottom": null,
            "display": null,
            "flex": null,
            "flex_flow": null,
            "grid_area": null,
            "grid_auto_columns": null,
            "grid_auto_flow": null,
            "grid_auto_rows": null,
            "grid_column": null,
            "grid_gap": null,
            "grid_row": null,
            "grid_template_areas": null,
            "grid_template_columns": null,
            "grid_template_rows": null,
            "height": null,
            "justify_content": null,
            "justify_items": null,
            "left": null,
            "margin": null,
            "max_height": null,
            "max_width": null,
            "min_height": null,
            "min_width": null,
            "object_fit": null,
            "object_position": null,
            "order": null,
            "overflow": null,
            "overflow_x": null,
            "overflow_y": null,
            "padding": null,
            "right": null,
            "top": null,
            "visibility": null,
            "width": null
          }
        },
        "37cbc2d11cd046e290182595f4f2040f": {
          "model_module": "@jupyter-widgets/controls",
          "model_name": "DescriptionStyleModel",
          "model_module_version": "1.5.0",
          "state": {
            "_model_module": "@jupyter-widgets/controls",
            "_model_module_version": "1.5.0",
            "_model_name": "DescriptionStyleModel",
            "_view_count": null,
            "_view_module": "@jupyter-widgets/base",
            "_view_module_version": "1.2.0",
            "_view_name": "StyleView",
            "description_width": ""
          }
        },
        "fc987ad22e554beb876149d28986cef4": {
          "model_module": "@jupyter-widgets/base",
          "model_name": "LayoutModel",
          "model_module_version": "1.2.0",
          "state": {
            "_model_module": "@jupyter-widgets/base",
            "_model_module_version": "1.2.0",
            "_model_name": "LayoutModel",
            "_view_count": null,
            "_view_module": "@jupyter-widgets/base",
            "_view_module_version": "1.2.0",
            "_view_name": "LayoutView",
            "align_content": null,
            "align_items": null,
            "align_self": null,
            "border": null,
            "bottom": null,
            "display": null,
            "flex": null,
            "flex_flow": null,
            "grid_area": null,
            "grid_auto_columns": null,
            "grid_auto_flow": null,
            "grid_auto_rows": null,
            "grid_column": null,
            "grid_gap": null,
            "grid_row": null,
            "grid_template_areas": null,
            "grid_template_columns": null,
            "grid_template_rows": null,
            "height": null,
            "justify_content": null,
            "justify_items": null,
            "left": null,
            "margin": null,
            "max_height": null,
            "max_width": null,
            "min_height": null,
            "min_width": null,
            "object_fit": null,
            "object_position": null,
            "order": null,
            "overflow": null,
            "overflow_x": null,
            "overflow_y": null,
            "padding": null,
            "right": null,
            "top": null,
            "visibility": null,
            "width": null
          }
        },
        "783182f965a74a6da9db5d3ca1c1f337": {
          "model_module": "@jupyter-widgets/controls",
          "model_name": "ProgressStyleModel",
          "model_module_version": "1.5.0",
          "state": {
            "_model_module": "@jupyter-widgets/controls",
            "_model_module_version": "1.5.0",
            "_model_name": "ProgressStyleModel",
            "_view_count": null,
            "_view_module": "@jupyter-widgets/base",
            "_view_module_version": "1.2.0",
            "_view_name": "StyleView",
            "bar_color": null,
            "description_width": ""
          }
        },
        "7529370e17514d07a780152bd4dce20d": {
          "model_module": "@jupyter-widgets/base",
          "model_name": "LayoutModel",
          "model_module_version": "1.2.0",
          "state": {
            "_model_module": "@jupyter-widgets/base",
            "_model_module_version": "1.2.0",
            "_model_name": "LayoutModel",
            "_view_count": null,
            "_view_module": "@jupyter-widgets/base",
            "_view_module_version": "1.2.0",
            "_view_name": "LayoutView",
            "align_content": null,
            "align_items": null,
            "align_self": null,
            "border": null,
            "bottom": null,
            "display": null,
            "flex": null,
            "flex_flow": null,
            "grid_area": null,
            "grid_auto_columns": null,
            "grid_auto_flow": null,
            "grid_auto_rows": null,
            "grid_column": null,
            "grid_gap": null,
            "grid_row": null,
            "grid_template_areas": null,
            "grid_template_columns": null,
            "grid_template_rows": null,
            "height": null,
            "justify_content": null,
            "justify_items": null,
            "left": null,
            "margin": null,
            "max_height": null,
            "max_width": null,
            "min_height": null,
            "min_width": null,
            "object_fit": null,
            "object_position": null,
            "order": null,
            "overflow": null,
            "overflow_x": null,
            "overflow_y": null,
            "padding": null,
            "right": null,
            "top": null,
            "visibility": null,
            "width": null
          }
        },
        "e63c6a43ac864dceb482b85baf3f809c": {
          "model_module": "@jupyter-widgets/controls",
          "model_name": "DescriptionStyleModel",
          "model_module_version": "1.5.0",
          "state": {
            "_model_module": "@jupyter-widgets/controls",
            "_model_module_version": "1.5.0",
            "_model_name": "DescriptionStyleModel",
            "_view_count": null,
            "_view_module": "@jupyter-widgets/base",
            "_view_module_version": "1.2.0",
            "_view_name": "StyleView",
            "description_width": ""
          }
        },
        "f6868c049e034992ac1d5404da4eebd0": {
          "model_module": "@jupyter-widgets/controls",
          "model_name": "HBoxModel",
          "model_module_version": "1.5.0",
          "state": {
            "_dom_classes": [],
            "_model_module": "@jupyter-widgets/controls",
            "_model_module_version": "1.5.0",
            "_model_name": "HBoxModel",
            "_view_count": null,
            "_view_module": "@jupyter-widgets/controls",
            "_view_module_version": "1.5.0",
            "_view_name": "HBoxView",
            "box_style": "",
            "children": [
              "IPY_MODEL_6760190bf5be482188c81c329da51eb2",
              "IPY_MODEL_394b4045042d4234997fbd31805093dd",
              "IPY_MODEL_104140d16c244a2fac09a8f994eea81b"
            ],
            "layout": "IPY_MODEL_552de31fadee48fca6c123f275afc80a"
          }
        },
        "6760190bf5be482188c81c329da51eb2": {
          "model_module": "@jupyter-widgets/controls",
          "model_name": "HTMLModel",
          "model_module_version": "1.5.0",
          "state": {
            "_dom_classes": [],
            "_model_module": "@jupyter-widgets/controls",
            "_model_module_version": "1.5.0",
            "_model_name": "HTMLModel",
            "_view_count": null,
            "_view_module": "@jupyter-widgets/controls",
            "_view_module_version": "1.5.0",
            "_view_name": "HTMLView",
            "description": "",
            "description_tooltip": null,
            "layout": "IPY_MODEL_0f91694eed3647dcad07fddf4da8ca2e",
            "placeholder": "​",
            "style": "IPY_MODEL_a62b300376bf4e5eaf66e212214addea",
            "value": "Shuffling ~/tensorflow_datasets/colorectal_histology/2.0.0.incomplete6S11QW/colorectal_histology-train.tfrecord*...:  76%"
          }
        },
        "394b4045042d4234997fbd31805093dd": {
          "model_module": "@jupyter-widgets/controls",
          "model_name": "FloatProgressModel",
          "model_module_version": "1.5.0",
          "state": {
            "_dom_classes": [],
            "_model_module": "@jupyter-widgets/controls",
            "_model_module_version": "1.5.0",
            "_model_name": "FloatProgressModel",
            "_view_count": null,
            "_view_module": "@jupyter-widgets/controls",
            "_view_module_version": "1.5.0",
            "_view_name": "ProgressView",
            "bar_style": "",
            "description": "",
            "description_tooltip": null,
            "layout": "IPY_MODEL_d35c3a97963b43bb9e807d2fb61c7a40",
            "max": 5000,
            "min": 0,
            "orientation": "horizontal",
            "style": "IPY_MODEL_fc749c0c82494281bd36c0d6530538ec",
            "value": 5000
          }
        },
        "104140d16c244a2fac09a8f994eea81b": {
          "model_module": "@jupyter-widgets/controls",
          "model_name": "HTMLModel",
          "model_module_version": "1.5.0",
          "state": {
            "_dom_classes": [],
            "_model_module": "@jupyter-widgets/controls",
            "_model_module_version": "1.5.0",
            "_model_name": "HTMLModel",
            "_view_count": null,
            "_view_module": "@jupyter-widgets/controls",
            "_view_module_version": "1.5.0",
            "_view_name": "HTMLView",
            "description": "",
            "description_tooltip": null,
            "layout": "IPY_MODEL_6ef9d3aed0b14268a4a14266a421003c",
            "placeholder": "​",
            "style": "IPY_MODEL_f6fedb6f48ba453e887625f159f679c6",
            "value": " 3811/5000 [00:00&lt;00:00, 17795.63 examples/s]"
          }
        },
        "552de31fadee48fca6c123f275afc80a": {
          "model_module": "@jupyter-widgets/base",
          "model_name": "LayoutModel",
          "model_module_version": "1.2.0",
          "state": {
            "_model_module": "@jupyter-widgets/base",
            "_model_module_version": "1.2.0",
            "_model_name": "LayoutModel",
            "_view_count": null,
            "_view_module": "@jupyter-widgets/base",
            "_view_module_version": "1.2.0",
            "_view_name": "LayoutView",
            "align_content": null,
            "align_items": null,
            "align_self": null,
            "border": null,
            "bottom": null,
            "display": null,
            "flex": null,
            "flex_flow": null,
            "grid_area": null,
            "grid_auto_columns": null,
            "grid_auto_flow": null,
            "grid_auto_rows": null,
            "grid_column": null,
            "grid_gap": null,
            "grid_row": null,
            "grid_template_areas": null,
            "grid_template_columns": null,
            "grid_template_rows": null,
            "height": null,
            "justify_content": null,
            "justify_items": null,
            "left": null,
            "margin": null,
            "max_height": null,
            "max_width": null,
            "min_height": null,
            "min_width": null,
            "object_fit": null,
            "object_position": null,
            "order": null,
            "overflow": null,
            "overflow_x": null,
            "overflow_y": null,
            "padding": null,
            "right": null,
            "top": null,
            "visibility": "hidden",
            "width": null
          }
        },
        "0f91694eed3647dcad07fddf4da8ca2e": {
          "model_module": "@jupyter-widgets/base",
          "model_name": "LayoutModel",
          "model_module_version": "1.2.0",
          "state": {
            "_model_module": "@jupyter-widgets/base",
            "_model_module_version": "1.2.0",
            "_model_name": "LayoutModel",
            "_view_count": null,
            "_view_module": "@jupyter-widgets/base",
            "_view_module_version": "1.2.0",
            "_view_name": "LayoutView",
            "align_content": null,
            "align_items": null,
            "align_self": null,
            "border": null,
            "bottom": null,
            "display": null,
            "flex": null,
            "flex_flow": null,
            "grid_area": null,
            "grid_auto_columns": null,
            "grid_auto_flow": null,
            "grid_auto_rows": null,
            "grid_column": null,
            "grid_gap": null,
            "grid_row": null,
            "grid_template_areas": null,
            "grid_template_columns": null,
            "grid_template_rows": null,
            "height": null,
            "justify_content": null,
            "justify_items": null,
            "left": null,
            "margin": null,
            "max_height": null,
            "max_width": null,
            "min_height": null,
            "min_width": null,
            "object_fit": null,
            "object_position": null,
            "order": null,
            "overflow": null,
            "overflow_x": null,
            "overflow_y": null,
            "padding": null,
            "right": null,
            "top": null,
            "visibility": null,
            "width": null
          }
        },
        "a62b300376bf4e5eaf66e212214addea": {
          "model_module": "@jupyter-widgets/controls",
          "model_name": "DescriptionStyleModel",
          "model_module_version": "1.5.0",
          "state": {
            "_model_module": "@jupyter-widgets/controls",
            "_model_module_version": "1.5.0",
            "_model_name": "DescriptionStyleModel",
            "_view_count": null,
            "_view_module": "@jupyter-widgets/base",
            "_view_module_version": "1.2.0",
            "_view_name": "StyleView",
            "description_width": ""
          }
        },
        "d35c3a97963b43bb9e807d2fb61c7a40": {
          "model_module": "@jupyter-widgets/base",
          "model_name": "LayoutModel",
          "model_module_version": "1.2.0",
          "state": {
            "_model_module": "@jupyter-widgets/base",
            "_model_module_version": "1.2.0",
            "_model_name": "LayoutModel",
            "_view_count": null,
            "_view_module": "@jupyter-widgets/base",
            "_view_module_version": "1.2.0",
            "_view_name": "LayoutView",
            "align_content": null,
            "align_items": null,
            "align_self": null,
            "border": null,
            "bottom": null,
            "display": null,
            "flex": null,
            "flex_flow": null,
            "grid_area": null,
            "grid_auto_columns": null,
            "grid_auto_flow": null,
            "grid_auto_rows": null,
            "grid_column": null,
            "grid_gap": null,
            "grid_row": null,
            "grid_template_areas": null,
            "grid_template_columns": null,
            "grid_template_rows": null,
            "height": null,
            "justify_content": null,
            "justify_items": null,
            "left": null,
            "margin": null,
            "max_height": null,
            "max_width": null,
            "min_height": null,
            "min_width": null,
            "object_fit": null,
            "object_position": null,
            "order": null,
            "overflow": null,
            "overflow_x": null,
            "overflow_y": null,
            "padding": null,
            "right": null,
            "top": null,
            "visibility": null,
            "width": null
          }
        },
        "fc749c0c82494281bd36c0d6530538ec": {
          "model_module": "@jupyter-widgets/controls",
          "model_name": "ProgressStyleModel",
          "model_module_version": "1.5.0",
          "state": {
            "_model_module": "@jupyter-widgets/controls",
            "_model_module_version": "1.5.0",
            "_model_name": "ProgressStyleModel",
            "_view_count": null,
            "_view_module": "@jupyter-widgets/base",
            "_view_module_version": "1.2.0",
            "_view_name": "StyleView",
            "bar_color": null,
            "description_width": ""
          }
        },
        "6ef9d3aed0b14268a4a14266a421003c": {
          "model_module": "@jupyter-widgets/base",
          "model_name": "LayoutModel",
          "model_module_version": "1.2.0",
          "state": {
            "_model_module": "@jupyter-widgets/base",
            "_model_module_version": "1.2.0",
            "_model_name": "LayoutModel",
            "_view_count": null,
            "_view_module": "@jupyter-widgets/base",
            "_view_module_version": "1.2.0",
            "_view_name": "LayoutView",
            "align_content": null,
            "align_items": null,
            "align_self": null,
            "border": null,
            "bottom": null,
            "display": null,
            "flex": null,
            "flex_flow": null,
            "grid_area": null,
            "grid_auto_columns": null,
            "grid_auto_flow": null,
            "grid_auto_rows": null,
            "grid_column": null,
            "grid_gap": null,
            "grid_row": null,
            "grid_template_areas": null,
            "grid_template_columns": null,
            "grid_template_rows": null,
            "height": null,
            "justify_content": null,
            "justify_items": null,
            "left": null,
            "margin": null,
            "max_height": null,
            "max_width": null,
            "min_height": null,
            "min_width": null,
            "object_fit": null,
            "object_position": null,
            "order": null,
            "overflow": null,
            "overflow_x": null,
            "overflow_y": null,
            "padding": null,
            "right": null,
            "top": null,
            "visibility": null,
            "width": null
          }
        },
        "f6fedb6f48ba453e887625f159f679c6": {
          "model_module": "@jupyter-widgets/controls",
          "model_name": "DescriptionStyleModel",
          "model_module_version": "1.5.0",
          "state": {
            "_model_module": "@jupyter-widgets/controls",
            "_model_module_version": "1.5.0",
            "_model_name": "DescriptionStyleModel",
            "_view_count": null,
            "_view_module": "@jupyter-widgets/base",
            "_view_module_version": "1.2.0",
            "_view_name": "StyleView",
            "description_width": ""
          }
        }
      }
    }
  },
  "nbformat": 4,
  "nbformat_minor": 0
}